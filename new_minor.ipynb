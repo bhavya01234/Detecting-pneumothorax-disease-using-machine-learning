{
  "nbformat": 4,
  "nbformat_minor": 0,
  "metadata": {
    "colab": {
      "provenance": [],
      "mount_file_id": "15B3LQQ12YYZOOnrObSM7ZpqqZCEEvNex",
      "authorship_tag": "ABX9TyNrUr71Pp6BNSyayD6x7LLa",
      "include_colab_link": true
    },
    "kernelspec": {
      "name": "python3",
      "display_name": "Python 3"
    },
    "language_info": {
      "name": "python"
    }
  },
  "cells": [
    {
      "cell_type": "markdown",
      "metadata": {
        "id": "view-in-github",
        "colab_type": "text"
      },
      "source": [
        "<a href=\"https://colab.research.google.com/github/madhurajituri/Detecting-pneumothorax-disease-using-machine-learning/blob/main/new_minor.ipynb\" target=\"_parent\"><img src=\"https://colab.research.google.com/assets/colab-badge.svg\" alt=\"Open In Colab\"/></a>"
      ]
    },
    {
      "cell_type": "code",
      "execution_count": 1,
      "metadata": {
        "id": "hmaOXcA3lqkv"
      },
      "outputs": [],
      "source": [
        "import numpy as np\n",
        "import pandas as pd"
      ]
    },
    {
      "cell_type": "code",
      "source": [
        "data = \"drive/MyDrive/classifier_data\""
      ],
      "metadata": {
        "id": "EeVCiBdXnxht"
      },
      "execution_count": 18,
      "outputs": []
    },
    {
      "cell_type": "code",
      "source": [
        "!pip install split-folders"
      ],
      "metadata": {
        "colab": {
          "base_uri": "https://localhost:8080/"
        },
        "id": "WkZL035UqqTE",
        "outputId": "dd0760f8-5141-443e-e07c-7910b49ccc77"
      },
      "execution_count": 10,
      "outputs": [
        {
          "output_type": "stream",
          "name": "stdout",
          "text": [
            "Collecting split-folders\n",
            "  Downloading split_folders-0.5.1-py3-none-any.whl (8.4 kB)\n",
            "Installing collected packages: split-folders\n",
            "Successfully installed split-folders-0.5.1\n"
          ]
        }
      ]
    },
    {
      "cell_type": "code",
      "source": [
        "import splitfolders"
      ],
      "metadata": {
        "id": "DalvmfGDq15F"
      },
      "execution_count": 16,
      "outputs": []
    },
    {
      "cell_type": "code",
      "source": [
        "splitfolders.ratio(data , output=\"splitted_data\" , seed=45 , ratio=(.7,.2,.1) , group_prefix=None)"
      ],
      "metadata": {
        "colab": {
          "base_uri": "https://localhost:8080/"
        },
        "id": "vemBtmuKq39A",
        "outputId": "f9ef1101-8e0c-4826-a953-23bf1f490327"
      },
      "execution_count": 19,
      "outputs": [
        {
          "output_type": "stream",
          "name": "stderr",
          "text": [
            "Copying files: 9225 files [03:20, 46.09 files/s] \n"
          ]
        }
      ]
    },
    {
      "cell_type": "code",
      "source": [
        "import os\n",
        "import cv2"
      ],
      "metadata": {
        "id": "CwxeZRMLwUz2"
      },
      "execution_count": 61,
      "outputs": []
    },
    {
      "cell_type": "code",
      "source": [
        "train_normal = \"splitted_data/train/normal\""
      ],
      "metadata": {
        "id": "G3-RhYcCvRsz"
      },
      "execution_count": 59,
      "outputs": []
    },
    {
      "cell_type": "code",
      "source": [
        "normal = []\n",
        "for img in os.listdir(train_normal):\n",
        "  imgpath = cv2.imread(os.path.join(train_normal,img))\n",
        "  normal.append(imgpath)"
      ],
      "metadata": {
        "id": "wZ0KtXoHxRHM"
      },
      "execution_count": 68,
      "outputs": []
    },
    {
      "cell_type": "code",
      "source": [
        "train_pneumo = \"splitted_data/train/pneumothorax\""
      ],
      "metadata": {
        "id": "HBn77MtAxcC4"
      },
      "execution_count": 67,
      "outputs": []
    },
    {
      "cell_type": "code",
      "source": [
        "pneumo = []\n",
        "for img in os.listdir(train_normal):\n",
        "  imgpath = cv2.imread(os.path.join(train_normal,img))\n",
        "  pneumo.append(imgpath)"
      ],
      "metadata": {
        "id": "RYU3iJ3P2pro"
      },
      "execution_count": 69,
      "outputs": []
    },
    {
      "cell_type": "code",
      "source": [
        "normal = np.array(normal)\n",
        "pneumo = np.array(pneumo)"
      ],
      "metadata": {
        "id": "VqiTdzME3VmY"
      },
      "execution_count": 70,
      "outputs": []
    },
    {
      "cell_type": "code",
      "source": [
        "normal.shape , pneumo.shape"
      ],
      "metadata": {
        "colab": {
          "base_uri": "https://localhost:8080/"
        },
        "id": "eT_WtfhN3a-J",
        "outputId": "46319042-d3ab-4803-efeb-aade2b48a242"
      },
      "execution_count": 71,
      "outputs": [
        {
          "output_type": "execute_result",
          "data": {
            "text/plain": [
              "((4792, 256, 256, 3), (4792, 256, 256, 3))"
            ]
          },
          "metadata": {},
          "execution_count": 71
        }
      ]
    },
    {
      "cell_type": "code",
      "source": [],
      "metadata": {
        "id": "UvLWUVPj4NCv"
      },
      "execution_count": null,
      "outputs": []
    }
  ]
}