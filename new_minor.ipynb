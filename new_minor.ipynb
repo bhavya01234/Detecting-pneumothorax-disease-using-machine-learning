{
  "nbformat": 4,
  "nbformat_minor": 0,
  "metadata": {
    "colab": {
      "provenance": [],
      "mount_file_id": "15B3LQQ12YYZOOnrObSM7ZpqqZCEEvNex",
      "authorship_tag": "ABX9TyOeF4tWLZfxNxhhag1i/yOo",
      "include_colab_link": true
    },
    "kernelspec": {
      "name": "python3",
      "display_name": "Python 3"
    },
    "language_info": {
      "name": "python"
    }
  },
  "cells": [
    {
      "cell_type": "markdown",
      "metadata": {
        "id": "view-in-github",
        "colab_type": "text"
      },
      "source": [
        "<a href=\"https://colab.research.google.com/github/madhurajituri/Detecting-pneumothorax-disease-using-machine-learning/blob/main/new_minor.ipynb\" target=\"_parent\"><img src=\"https://colab.research.google.com/assets/colab-badge.svg\" alt=\"Open In Colab\"/></a>"
      ]
    },
    {
      "cell_type": "code",
      "execution_count": 1,
      "metadata": {
        "id": "hmaOXcA3lqkv"
      },
      "outputs": [],
      "source": [
        "import numpy as np\n",
        "import pandas as pd"
      ]
    },
    {
      "cell_type": "code",
      "source": [
        "data = \"drive/MyDrive/classifier_data\""
      ],
      "metadata": {
        "id": "EeVCiBdXnxht"
      },
      "execution_count": 18,
      "outputs": []
    },
    {
      "cell_type": "code",
      "source": [
        "import os\n",
        "import cv2"
      ],
      "metadata": {
        "id": "immDbzDKA5nA"
      },
      "execution_count": 72,
      "outputs": []
    },
    {
      "cell_type": "code",
      "source": [
        "normalpath = \"drive/MyDrive/classifier_data/normal\"\n",
        "pneumopath = \"drive/MyDrive/classifier_data/pneumothorax\""
      ],
      "metadata": {
        "id": "CnbIEODiA_sv"
      },
      "execution_count": 74,
      "outputs": []
    },
    {
      "cell_type": "code",
      "source": [
        "normal = []\n",
        "for img in os.listdir(normalpath):\n",
        "  imgpath = cv2.imread(os.path.join(normalpath,img))\n",
        "  normal.append(imgpath)"
      ],
      "metadata": {
        "id": "yOA6hlM8BSwt"
      },
      "execution_count": 83,
      "outputs": []
    },
    {
      "cell_type": "code",
      "source": [
        "pneumo = []\n",
        "for img in os.listdir(pneumopath):\n",
        "  imgpath = cv2.imread(os.path.join(pneumopath,img))\n",
        "  pneumo.append(imgpath)"
      ],
      "metadata": {
        "id": "upQSkKb1CYtJ"
      },
      "execution_count": 80,
      "outputs": []
    },
    {
      "cell_type": "code",
      "source": [
        "normal = np.array(normal)\n",
        "pneumo = np.array(pneumo)"
      ],
      "metadata": {
        "id": "jybuYtxwCvyM"
      },
      "execution_count": 84,
      "outputs": []
    },
    {
      "cell_type": "code",
      "source": [
        "normal.shape , pneumo.shape"
      ],
      "metadata": {
        "colab": {
          "base_uri": "https://localhost:8080/"
        },
        "id": "SiB55PNTC_9h",
        "outputId": "99328f1f-6106-41fc-8f64-17316196c5ca"
      },
      "execution_count": 86,
      "outputs": [
        {
          "output_type": "execute_result",
          "data": {
            "text/plain": [
              "((6846, 256, 256, 3), (2379, 256, 256, 3))"
            ]
          },
          "metadata": {},
          "execution_count": 86
        }
      ]
    },
    {
      "cell_type": "code",
      "source": [],
      "metadata": {
        "id": "UvLWUVPj4NCv"
      },
      "execution_count": null,
      "outputs": []
    }
  ]
}