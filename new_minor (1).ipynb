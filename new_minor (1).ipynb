{
  "cells": [
    {
      "cell_type": "code",
      "execution_count": null,
      "metadata": {
        "id": "hmaOXcA3lqkv"
      },
      "outputs": [],
      "source": [
        "import numpy as np\n",
        "import pandas as pd\n",
        "import matplotlib.pyplot as plt\n",
        "from skimage.measure import shannon_entropy\n",
        "from skimage.filters import gabor\n",
        "from sklearn.preprocessing import StandardScaler\n",
        "from sklearn.decomposition import PCA\n",
        "import seaborn as sns\n",
        "from sklearn.model_selection import train_test_split as tts\n",
        "from sklearn.svm import SVC\n",
        "from sklearn.metrics import accuracy_score\n",
        "import os\n",
        "import cv2\n",
        "import pickle"
      ]
    },
    {
      "cell_type": "code",
      "execution_count": null,
      "metadata": {
        "colab": {
          "base_uri": "https://localhost:8080/"
        },
        "id": "vVWsnqur94Ty",
        "outputId": "b48b156f-c29a-4f34-f96d-2ab6857cda2d"
      },
      "outputs": [
        {
          "output_type": "stream",
          "name": "stdout",
          "text": [
            "Mounted at /content/drive\n"
          ]
        }
      ],
      "source": [
        "from google.colab import drive\n",
        "drive.mount('/content/drive')"
      ]
    },
    {
      "cell_type": "code",
      "execution_count": null,
      "metadata": {
        "id": "EeVCiBdXnxht"
      },
      "outputs": [],
      "source": [
        "data = \"drive/MyDrive/classifier_data\""
      ]
    },
    {
      "cell_type": "code",
      "execution_count": null,
      "metadata": {
        "id": "CnbIEODiA_sv"
      },
      "outputs": [],
      "source": [
        "normalpath = \"drive/MyDrive/classifier_data/normal\"\n",
        "pneumopath = \"drive/MyDrive/classifier_data/pneumothorax\""
      ]
    },
    {
      "cell_type": "code",
      "source": [
        "count_normal = 0\n",
        "count_pneumo = 0\n",
        "for img in os.listdir(normalpath):\n",
        "  count_normal += 1\n",
        "for img in os.listdir(pneumopath):\n",
        "  count_pneumo += 1\n",
        "print(f\"No. of images with no disease: {count_normal}\")\n",
        "print(f\"No. of images with disease: {count_pneumo}\")"
      ],
      "metadata": {
        "colab": {
          "base_uri": "https://localhost:8080/"
        },
        "id": "8g32CqmO2wUC",
        "outputId": "766df3a8-f64c-441d-ea1b-ddce1d5e69cd"
      },
      "execution_count": null,
      "outputs": [
        {
          "output_type": "stream",
          "name": "stdout",
          "text": [
            "No. of images with no disease: 6846\n",
            "No. of images with disease: 2379\n"
          ]
        }
      ]
    },
    {
      "cell_type": "code",
      "execution_count": null,
      "metadata": {
        "id": "yOA6hlM8BSwt"
      },
      "outputs": [],
      "source": [
        "def extract_normal(n):\n",
        "  normal = []\n",
        "  for img in os.listdir(normalpath):\n",
        "    imgmatrix = cv2.imread(os.path.join(normalpath,img))\n",
        "    normal.append(imgmatrix)\n",
        "    n = n-1\n",
        "    if n==0:\n",
        "      return normal"
      ]
    },
    {
      "cell_type": "code",
      "execution_count": null,
      "metadata": {
        "id": "upQSkKb1CYtJ"
      },
      "outputs": [],
      "source": [
        "def extract_pneumo(n):\n",
        "  pneumo = []\n",
        "  for img in os.listdir(pneumopath):\n",
        "    imgmatrix = cv2.imread(os.path.join(pneumopath,img))\n",
        "    pneumo.append(imgmatrix)\n",
        "    n = n-1\n",
        "    if n==0:\n",
        "      return pneumo"
      ]
    },
    {
      "cell_type": "code",
      "execution_count": null,
      "metadata": {
        "colab": {
          "base_uri": "https://localhost:8080/"
        },
        "id": "KaGrNMX_5f_K",
        "outputId": "71cb3eef-bbb6-403c-d4f3-bacf90120637"
      },
      "outputs": [
        {
          "output_type": "stream",
          "name": "stdout",
          "text": [
            "<class 'list'>\n"
          ]
        }
      ],
      "source": [
        "normal = extract_normal(3)\n",
        "pneumo = extract_pneumo(3)\n",
        "print(type(normal))"
      ]
    },
    {
      "cell_type": "code",
      "execution_count": null,
      "metadata": {
        "id": "jybuYtxwCvyM"
      },
      "outputs": [],
      "source": [
        "normal = np.asarray(normal)\n",
        "pneumo = np.asarray(pneumo)"
      ]
    },
    {
      "cell_type": "code",
      "execution_count": null,
      "metadata": {
        "id": "SiB55PNTC_9h",
        "colab": {
          "base_uri": "https://localhost:8080/"
        },
        "outputId": "a697c01c-886a-42e0-be57-0e0133dd66db"
      },
      "outputs": [
        {
          "output_type": "execute_result",
          "data": {
            "text/plain": [
              "((3, 256, 256, 3), (3, 256, 256, 3))"
            ]
          },
          "metadata": {},
          "execution_count": 10
        }
      ],
      "source": [
        "normal.shape , pneumo.shape"
      ]
    },
    {
      "cell_type": "code",
      "execution_count": null,
      "metadata": {
        "id": "UvLWUVPj4NCv",
        "colab": {
          "base_uri": "https://localhost:8080/"
        },
        "outputId": "d53b525f-02b5-4305-d162-7696aa8ebe20"
      },
      "outputs": [
        {
          "output_type": "execute_result",
          "data": {
            "text/plain": [
              "array([[[254, 254, 254],\n",
              "        [254, 254, 254],\n",
              "        [247, 247, 247],\n",
              "        ...,\n",
              "        [248, 248, 248],\n",
              "        [248, 248, 248],\n",
              "        [252, 252, 252]],\n",
              "\n",
              "       [[252, 252, 252],\n",
              "        [246, 246, 246],\n",
              "        [217, 217, 217],\n",
              "        ...,\n",
              "        [232, 232, 232],\n",
              "        [237, 237, 237],\n",
              "        [244, 244, 244]],\n",
              "\n",
              "       [[244, 244, 244],\n",
              "        [218, 218, 218],\n",
              "        [134, 134, 134],\n",
              "        ...,\n",
              "        [118, 118, 118],\n",
              "        [130, 130, 130],\n",
              "        [152, 152, 152]],\n",
              "\n",
              "       ...,\n",
              "\n",
              "       [[ 50,  50,  50],\n",
              "        [ 24,  24,  24],\n",
              "        [ 16,  16,  16],\n",
              "        ...,\n",
              "        [ 13,  13,  13],\n",
              "        [ 13,  13,  13],\n",
              "        [ 11,  11,  11]],\n",
              "\n",
              "       [[ 50,  50,  50],\n",
              "        [ 26,  26,  26],\n",
              "        [ 16,  16,  16],\n",
              "        ...,\n",
              "        [ 13,  13,  13],\n",
              "        [ 13,  13,  13],\n",
              "        [ 13,  13,  13]],\n",
              "\n",
              "       [[ 52,  52,  52],\n",
              "        [ 30,  30,  30],\n",
              "        [ 18,  18,  18],\n",
              "        ...,\n",
              "        [ 13,  13,  13],\n",
              "        [ 13,  13,  13],\n",
              "        [ 13,  13,  13]]], dtype=uint8)"
            ]
          },
          "metadata": {},
          "execution_count": 11
        }
      ],
      "source": [
        "normal[0]"
      ]
    },
    {
      "cell_type": "code",
      "execution_count": null,
      "metadata": {
        "id": "niKL_lGaGWyd",
        "colab": {
          "base_uri": "https://localhost:8080/"
        },
        "outputId": "857e49ea-7ef8-4602-dda3-a25fc8ed9b8e"
      },
      "outputs": [
        {
          "output_type": "execute_result",
          "data": {
            "text/plain": [
              "numpy.ndarray"
            ]
          },
          "metadata": {},
          "execution_count": 12
        }
      ],
      "source": [
        "type(normal)"
      ]
    },
    {
      "cell_type": "code",
      "execution_count": null,
      "metadata": {
        "id": "MPgtT20ZGak1"
      },
      "outputs": [],
      "source": [
        "from google.colab.patches import cv2_imshow"
      ]
    },
    {
      "cell_type": "code",
      "execution_count": null,
      "metadata": {
        "id": "bS9zhhSKG09z",
        "colab": {
          "base_uri": "https://localhost:8080/",
          "height": 546
        },
        "outputId": "42ee35ab-6378-457f-e030-f7dfe6b636c4"
      },
      "outputs": [
        {
          "output_type": "display_data",
          "data": {
            "text/plain": [
              "<PIL.Image.Image image mode=RGB size=256x256>"
            ],
            "image/png": "[encoded data removed]"
          },
          "metadata": {}
        },
        {
          "output_type": "display_data",
          "data": {
            "text/plain": [
              "<PIL.Image.Image image mode=RGB size=256x256>"
            ],
            "image/png": "[encoded data removed]"
          },
          "metadata": {}
        },
        {
          "output_type": "execute_result",
          "data": {
            "text/plain": [
              "(None, None)"
            ]
          },
          "metadata": {},
          "execution_count": 14
        }
      ],
      "source": [
        "cv2_imshow(normal[0]) , cv2_imshow(pneumo[0])"
      ]
    },
    {
      "cell_type": "code",
      "execution_count": null,
      "metadata": {
        "id": "rfbgthb09xWd"
      },
      "outputs": [],
      "source": [
        "# grayscale = cv2.cvtColor(pneumo[0],cv2.COLOR_BGR2GRAY)\n",
        "# contrast = cv2.equalizeHist(grayscale)"
      ]
    },
    {
      "cell_type": "markdown",
      "metadata": {
        "id": "eeK1FUiTVOC-"
      },
      "source": [
        "# Preprocessing"
      ]
    },
    {
      "cell_type": "code",
      "execution_count": null,
      "metadata": {
        "id": "Mfmuqtx5CAxN",
        "colab": {
          "base_uri": "https://localhost:8080/",
          "height": 273
        },
        "outputId": "b69b0a05-f905-4aea-a58b-3af2afbbcc96"
      },
      "outputs": [
        {
          "output_type": "display_data",
          "data": {
            "text/plain": [
              "<PIL.Image.Image image mode=L size=256x256>"
            ],
            "image/png": "[encoded data removed]"
          },
          "metadata": {}
        }
      ],
      "source": [
        "#CONVERTING TO GRAYSCALE\n",
        "gray = np.dot(pneumo[0],[0.2989, 0.5870, 0.1140])\n",
        "cv2_imshow(gray)"
      ]
    },
    {
      "cell_type": "code",
      "execution_count": null,
      "metadata": {
        "id": "TGOteE1yHk4C",
        "colab": {
          "base_uri": "https://localhost:8080/",
          "height": 273
        },
        "outputId": "16746a9c-7dfa-4b2d-a11b-bd4c9a8b85ca"
      },
      "outputs": [
        {
          "output_type": "display_data",
          "data": {
            "text/plain": [
              "<PIL.Image.Image image mode=L size=256x256>"
            ],
            "image/png": "[encoded data removed]"
          },
          "metadata": {}
        }
      ],
      "source": [
        "#INCREASING CONTRAST USING HISTOGRAM EQUILIZATION\n",
        "hist, bins = np.histogram(gray, bins=256, range=(0, 256))\n",
        "\n",
        "#calculating cumulative distribution function (CDF)\n",
        "cdf = hist.cumsum()\n",
        "\n",
        "#normalizing CDF\n",
        "cdf_normalized = (cdf - cdf.min()) * 255 / (cdf.max() - cdf.min())\n",
        "contrast = cdf_normalized[gray.astype('uint8')]\n",
        "\n",
        "cv2_imshow(contrast)"
      ]
    },
    {
      "cell_type": "code",
      "execution_count": null,
      "metadata": {
        "id": "r0OuIsZR_Z5H"
      },
      "outputs": [],
      "source": [
        "# medianblur = cv2.medianBlur(contrast, 3)\n",
        "# cv2_imshow(contrast)\n",
        "# cv2_imshow(medianblur)"
      ]
    },
    {
      "cell_type": "code",
      "execution_count": null,
      "metadata": {
        "id": "qlO-cL2kLJNH",
        "colab": {
          "base_uri": "https://localhost:8080/",
          "height": 273
        },
        "outputId": "a6a8968c-5284-4fff-cd77-a411d6a287a1"
      },
      "outputs": [
        {
          "output_type": "display_data",
          "data": {
            "text/plain": [
              "<PIL.Image.Image image mode=L size=256x256>"
            ],
            "image/png": "[encoded data removed]"
          },
          "metadata": {}
        }
      ],
      "source": [
        "#SMOOTHENING OF IMAGE USING MEDIAN FILTER\n",
        "kernel_half = 3 // 2\n",
        "median = np.zeros((256, 256), dtype=np.uint8)\n",
        "for y in range(kernel_half, 256 - kernel_half):\n",
        "      for x in range(kernel_half, 256 - kernel_half):\n",
        "            kernel = contrast[y - kernel_half:y + kernel_half + 1, x - kernel_half:x + kernel_half + 1]\n",
        "            median[y, x] = np.median(kernel)\n",
        "cv2_imshow(median)"
      ]
    },
    {
      "cell_type": "code",
      "execution_count": null,
      "metadata": {
        "id": "k3RjShcBMP7U"
      },
      "outputs": [],
      "source": [
        "# print(cv2.subtract(filtered_image.astype('uint8'),medianblur.astype('uint8')))"
      ]
    },
    {
      "cell_type": "code",
      "execution_count": null,
      "metadata": {
        "id": "qeG1zHJuG6sK",
        "colab": {
          "base_uri": "https://localhost:8080/"
        },
        "outputId": "68599939-3b6f-4e31-94ca-c633630a7742"
      },
      "outputs": [
        {
          "output_type": "execute_result",
          "data": {
            "text/plain": [
              "array([[0.        , 0.        , 0.        , ..., 0.        , 0.        ,\n",
              "        0.        ],\n",
              "       [0.        , 0.01176471, 0.01176471, ..., 0.00392157, 0.00392157,\n",
              "        0.        ],\n",
              "       [0.        , 0.01176471, 0.01176471, ..., 0.00392157, 0.00392157,\n",
              "        0.        ],\n",
              "       ...,\n",
              "       [0.        , 0.12941176, 0.12941176, ..., 0.11372549, 0.12156863,\n",
              "        0.        ],\n",
              "       [0.        , 0.13333333, 0.13333333, ..., 0.11372549, 0.12156863,\n",
              "        0.        ],\n",
              "       [0.        , 0.        , 0.        , ..., 0.        , 0.        ,\n",
              "        0.        ]])"
            ]
          },
          "metadata": {},
          "execution_count": 21
        }
      ],
      "source": [
        "#NORMALIZATION OF IMAGE MATRIX\n",
        "normalized = median.astype(float) / 255.0\n",
        "normalized"
      ]
    },
    {
      "cell_type": "code",
      "execution_count": null,
      "metadata": {
        "id": "4uclUO5kI6-s",
        "colab": {
          "base_uri": "https://localhost:8080/",
          "height": 273
        },
        "outputId": "49207974-50cb-49e9-fae7-8c79323c5215"
      },
      "outputs": [
        {
          "output_type": "display_data",
          "data": {
            "text/plain": [
              "<PIL.Image.Image image mode=L size=256x256>"
            ],
            "image/png": "[encoded data removed]"
          },
          "metadata": {}
        }
      ],
      "source": [
        "window_center = 0.5\n",
        "window_width = 0.8\n",
        "\n",
        "lower_bound = (window_center - window_width / 2.0)\n",
        "upper_bound = (window_center + window_width / 2.0)\n",
        "\n",
        "windowed_image = np.clip((normalized - lower_bound) / (upper_bound - lower_bound), 0, 1)\n",
        "\n",
        "cv2_imshow((windowed_image * 255).astype(np.uint8))"
      ]
    },
    {
      "cell_type": "code",
      "execution_count": null,
      "metadata": {
        "id": "2YLltMiLTlTt"
      },
      "outputs": [],
      "source": [
        "# #function for preprocessing\n",
        "# def preprocessing(image):\n",
        "#   grayscale = cv2.cvtColor(pneumo[0],cv2.COLOR_BGR2GRAY) #grayscaling\n",
        "#   contrast = cv2.equalizeHist(grayscale) #contrasting\n",
        "#   medianblur = cv2.medianBlur(contrast, 3) #median filtering\n",
        "#   normalized = medianblur.astype(float) / 255.0 #normalization\n",
        "\n",
        "#   #windowing\n",
        "#   window_center = 0.5\n",
        "#   window_width = 0.8\n",
        "#   lower_bound = (window_center - window_width / 2.0)\n",
        "#   upper_bound = (window_center + window_width / 2.0)\n",
        "#   windowed_image = np.clip((normalized- lower_bound) / (upper_bound - lower_bound), 0, 1)\n",
        "#   return windowed_image\n",
        "\n",
        "# # cv2_imshow((windowed_image * 255).astype(np.uint8))"
      ]
    },
    {
      "cell_type": "code",
      "execution_count": null,
      "metadata": {
        "id": "egfGXxqRJO0s"
      },
      "outputs": [],
      "source": [
        "#function for preprocessing (without using opencv)\n",
        "\n",
        "def preprocess_image(img):\n",
        "\n",
        "  #converting into grayscale image\n",
        "  gray = np.dot(img,[0.2989, 0.5870, 0.1140])\n",
        "\n",
        "\n",
        "  #increasing contrast by histogram equalization\n",
        "  hist, bins = np.histogram(gray, bins=256, range=(0, 256))\n",
        "  cdf = hist.cumsum()\n",
        "  cdf_normalized = (cdf - cdf.min()) * 255 / (cdf.max() - cdf.min())\n",
        "  contrast = cdf_normalized[gray.astype('uint8')]\n",
        "\n",
        "\n",
        "  #applying median filter\n",
        "  kernel_half = 3 // 2\n",
        "  median = np.zeros((256, 256), dtype=np.uint8)\n",
        "  for y in range(kernel_half, 256 - kernel_half):\n",
        "    for x in range(kernel_half, 256 - kernel_half):\n",
        "      kernel = contrast[y - kernel_half:y + kernel_half + 1, x - kernel_half:x + kernel_half + 1]\n",
        "      median[y, x] = np.median(kernel)\n",
        "\n",
        "\n",
        "  #normalization\n",
        "  normalized = median.astype(float) / 255.0\n",
        "\n",
        "\n",
        "  #windowing\n",
        "  window_center = 0.5\n",
        "  window_width = 1\n",
        "  lower_bound = (window_center - window_width / 2.0)\n",
        "  upper_bound = (window_center + window_width / 2.0)\n",
        "  windowed_image = np.clip((normalized - lower_bound) / (upper_bound - lower_bound), 0, 1)\n",
        "\n",
        "\n",
        "  return windowed_image"
      ]
    },
    {
      "cell_type": "code",
      "execution_count": null,
      "metadata": {
        "id": "xPxz7eW0Qdm1",
        "colab": {
          "base_uri": "https://localhost:8080/",
          "height": 529
        },
        "outputId": "6c5024d9-8bba-4481-969b-a186f1d9c98c"
      },
      "outputs": [
        {
          "output_type": "display_data",
          "data": {
            "text/plain": [
              "<PIL.Image.Image image mode=RGB size=256x256>"
            ],
            "image/png": "[encoded data removed]"
          },
          "metadata": {}
        },
        {
          "output_type": "display_data",
          "data": {
            "text/plain": [
              "<PIL.Image.Image image mode=L size=256x256>"
            ],
            "image/png": "[encoded data removed]"
          },
          "metadata": {}
        }
      ],
      "source": [
        "cv2_imshow(normal[0])\n",
        "preprocessed = (preprocess_image(normal[0])*255).astype('uint8')\n",
        "cv2_imshow(preprocessed)"
      ]
    },
    {
      "cell_type": "markdown",
      "metadata": {
        "id": "qolUzsIBVHlK"
      },
      "source": [
        "# Feature Extraction"
      ]
    },
    {
      "cell_type": "code",
      "execution_count": null,
      "metadata": {
        "id": "vtgVixCFZ5qG"
      },
      "outputs": [],
      "source": [
        "# # TEXTURE FEATURE EXTRACTION\n",
        "# from skimage.measure import shannon_entropy\n",
        "# #GLCM parameters\n",
        "# distance = 1\n",
        "# #0 and 45-degree angles chosen\n",
        "\n",
        "# #gray level co-occurrence matrix\n",
        "# glcm = np.zeros((256, 256), dtype=np.uint8)\n",
        "\n",
        "# for i in range(preprocessed.shape[0] - distance):\n",
        "#     for j in range(preprocessed.shape[1] - distance):\n",
        "#         p = preprocessed[i, j]\n",
        "#         q = preprocessed[i + distance, j + distance]\n",
        "#         glcm[p, q] += 1\n",
        "#         q = preprocessed[i + distance, j]\n",
        "#         glcm[p, q] += 1\n",
        "#         q = preprocessed[i, j + distance]\n",
        "#         glcm[p, q] += 1\n",
        "\n",
        "# # Normalizing GLCM\n",
        "# glcm = glcm / glcm.sum()\n",
        "\n",
        "# contrast = np.sum(glcm * np.square(np.arange(256) - np.mean(np.arange(256))))\n",
        "# dissimilarity = np.sum(glcm * np.abs(np.arange(256) - np.mean(np.arange(256))))\n",
        "# #Energy quantifies the uniformity or regularity of pixel intensities within the image patch. Higher energy values suggest more uniform textures.\n",
        "# energy = np.sum(np.square(glcm))\n",
        "# #Correlation measures the linear dependency between pixel pairs. High correlation values indicate strong linear relationships between pixels.\n",
        "# correlation = np.sum(glcm * (np.outer(np.arange(256), np.arange(256)) - np.outer(np.mean(np.arange(256)), np.mean(np.arange(256)))))\n",
        "# entropy = shannon_entropy(glcm)\n",
        "# homogeneity = 0\n",
        "# for i in range(256):\n",
        "#         for j in range(256):\n",
        "#             homogeneity += glcm[i, j] / (1 + (i - j)**2)\n",
        "# asm = np.sum(glcm**2) #angular second moment\n",
        "\n",
        "# print(f'Contrast: {contrast}')\n",
        "# print(f'Dissimilarity: {dissimilarity}')\n",
        "# print(f'Energy: {energy}')\n",
        "# print(f'Correlation: {correlation}')\n",
        "# print(f'Entropy: {entropy}')\n",
        "# print(f'homogeneity:{homogeneity}')\n",
        "# print(f'Angular second moment:{asm}')"
      ]
    },
    {
      "cell_type": "code",
      "source": [
        "# # GABOR TEXTURE FEATURES\n",
        "# from skimage.filters import gabor\n",
        "# frequencies = [0.1, 0.5, 1.0]\n",
        "# angles = [0, np.pi/4, np.pi/2, 3*np.pi/4]\n",
        "\n",
        "# for f in frequencies:\n",
        "#   for a in angles:\n",
        "#     gabor_filter = np.abs(gabor(preprocessed,frequency = f,theta = a)[0])\n",
        "#     mean_gabor = np.mean(gabor_filter)\n",
        "#     std_gabor = np.std(gabor_filter)\n",
        "\n",
        "# mean_gabor,std_gabor"
      ],
      "metadata": {
        "id": "dj4bRyvOLE2v"
      },
      "execution_count": null,
      "outputs": []
    },
    {
      "cell_type": "code",
      "source": [
        "# # HISTOGRAM BASED TEXTURE FEATURES\n",
        "# flattened = preprocessed.flatten()\n",
        "# hist , bins = np.histogram(flattened,bins = 256)\n",
        "# #normalizing histogram\n",
        "# histogram = hist/sum(hist)\n",
        "# mean = np.mean(flattened)\n",
        "# variance = np.var(flattened)\n",
        "# skewness = np.mean((flattened - mean) ** 3) / np.power(variance, 3/2)\n",
        "# kurtosis = np.mean((flattened - mean) ** 4) / np.power(variance, 2) - 3\n",
        "# energy_histogram = np.sum(histogram ** 2)\n",
        "# entropy_histogram = -np.sum(histogram * np.log2(histogram + 1e-10))"
      ],
      "metadata": {
        "id": "rycAc5fBG2Wf"
      },
      "execution_count": null,
      "outputs": []
    },
    {
      "cell_type": "code",
      "source": [
        "# # RUN LENGTH MATRIX FEATURES\n",
        "# def calculate_run_length_matrix(image, direction):\n",
        "#     runs = [np.asarray(column) for column in image.T]\n",
        "#     run_lengths = [np.unique(run, return_counts=True) for run in runs]\n",
        "#     max_length = max(len(run) for run in runs)\n",
        "\n",
        "#     run_length_matrix = np.zeros((len(runs), max_length), dtype=int)\n",
        "\n",
        "#     for i, run in enumerate(runs):\n",
        "#         unique, counts = np.unique(run, return_counts=True)\n",
        "#         run_length_matrix[i, unique] = counts\n",
        "\n",
        "#     return run_length_matrix\n",
        "\n",
        "# rlm_matrix = calculate_run_length_matrix(preprocessed, 'vertical')\n",
        "\n",
        "# # Extracting features from the run length matrix\n",
        "# short_run_emphasis = np.sum(rlm_matrix / (np.arange(1, rlm_matrix.shape[1] + 1))[:, np.newaxis]) / np.sum(rlm_matrix)\n",
        "# long_run_emphasis = np.sum(rlm_matrix * (np.arange(1, rlm_matrix.shape[1] + 1))[:, np.newaxis]) / np.sum(rlm_matrix)\n",
        "# gray_level_nonuniformity = np.sum(np.sum(rlm_matrix, axis=1)**2) / np.sum(rlm_matrix)\n",
        "# run_length_nonuniformity = np.sum(np.sum(rlm_matrix, axis=0)**2) / np.sum(rlm_matrix)\n",
        "# low_gray_level_run_emphasis = np.sum(rlm_matrix / (np.arange(1, rlm_matrix.shape[0] + 1))[:, np.newaxis]) / np.sum(rlm_matrix)\n",
        "# high_gray_level_run_emphasis = np.sum(rlm_matrix * (np.arange(1, rlm_matrix.shape[0] + 1))[:, np.newaxis]) / np.sum(rlm_matrix)\n",
        "\n",
        "# print(f'Short Run Emphasis (SRE): {short_run_emphasis}')\n",
        "# print(f'Long Run Emphasis (LRE): {long_run_emphasis}')\n",
        "# print(f'Gray Level Non-Uniformity (GLN): {gray_level_nonuniformity}')\n",
        "# print(f'Run Length Non-Uniformity (RLN): {run_length_nonuniformity}')\n",
        "# print(f'Low Gray Level Run Emphasis (LGRE): {low_gray_level_run_emphasis}')\n",
        "# print(f'High Gray Level Run Emphasis (HGRE): {high_gray_level_run_emphasis}')"
      ],
      "metadata": {
        "id": "6ivMDnC-cMRj"
      },
      "execution_count": null,
      "outputs": []
    },
    {
      "cell_type": "code",
      "source": [
        "def feature_extraction(image):\n",
        "  # GLCM TEXTURE FEATURES\n",
        "  #GLCM parameters\n",
        "  distance = 1\n",
        "  # imagecopy = image\n",
        "  # image = (image*255).astype('uint8')\n",
        "  #0 and 45-degree angles chosen\n",
        "\n",
        "  #gray level co-occurrence matrix\n",
        "  glcm = np.zeros((256, 256), dtype=np.uint8)\n",
        "\n",
        "  for i in range(image.shape[0] - distance):\n",
        "     for j in range(image.shape[1] - distance):\n",
        "        p = image[i, j]\n",
        "        q = image[i + distance, j + distance]\n",
        "        glcm[p, q] = glcm[p,q]+1\n",
        "        q = image[i + distance, j]\n",
        "        glcm[p, q] += 1\n",
        "        q = image[i, j + distance]\n",
        "        glcm[p, q] += 1\n",
        "\n",
        "  # Normalizing GLCM\n",
        "  glcm = glcm / glcm.sum()\n",
        "\n",
        "  contrast = np.sum(glcm * np.square(np.arange(256) - np.mean(np.arange(256))))\n",
        "  dissimilarity = np.sum(glcm * np.abs(np.arange(256) - np.mean(np.arange(256))))\n",
        "  #Energy quantifies the uniformity or regularity of pixel intensities within the image patch. Higher energy values suggest more uniform textures.\n",
        "  energy = np.sum(np.square(glcm))\n",
        "  #Correlation measures the linear dependency between pixel pairs. High correlation values indicate strong linear relationships between pixels.\n",
        "  correlation = np.sum(glcm * (np.outer(np.arange(256), np.arange(256)) - np.outer(np.mean(np.arange(256)), np.mean(np.arange(256)))))\n",
        "  entropy = shannon_entropy(glcm)\n",
        "  homogeneity = 0\n",
        "  for i in range(256):\n",
        "        for j in range(256):\n",
        "            homogeneity += glcm[i, j] / (1 + (i - j)**2)\n",
        "  asm = np.sum(glcm**2) #angular second moment\n",
        "\n",
        "\n",
        "\n",
        "  # GABOR TEXTURE FEATURES\n",
        "  frequencies = [0.1, 0.5, 1.0]\n",
        "  angles = [0, np.pi/4, np.pi/2, 3*np.pi/4]\n",
        "\n",
        "  for f in frequencies:\n",
        "    for a in angles:\n",
        "      gabor_filter = np.abs(gabor(image,frequency = f,theta = a)[0])\n",
        "      mean_gabor = np.mean(gabor_filter)\n",
        "      std_gabor = np.std(gabor_filter)\n",
        "\n",
        "\n",
        "\n",
        "  # HISTOGRAM BASED TEXTURE FEATURES\n",
        "  flattened = image.flatten()\n",
        "  hist , bins = np.histogram(flattened,bins = 256)\n",
        "  #normalizing histogram\n",
        "  histogram = hist/sum(hist)\n",
        "  mean = np.mean(flattened)\n",
        "  variance = np.var(flattened)\n",
        "  hist , bins = np.histogram(flattened,bins = 256)\n",
        "  skewness = np.mean((flattened - mean) ** 3) / np.power(variance, 3/2)\n",
        "  kurtosis = np.mean((flattened - mean) ** 4) / np.power(variance, 2) - 3\n",
        "  energy_histogram = np.sum(histogram ** 2)\n",
        "  entropy_histogram = -np.sum(histogram * np.log2(histogram + 1e-10))\n",
        "\n",
        "\n",
        "\n",
        "  # RUN LENGTH MATRIX FEATURES\n",
        "  def calculate_run_length_matrix(image1, direction):\n",
        "      runs = [np.asarray(row) for row in image1]\n",
        "      run_lengths = [np.unique(run, return_counts=True) for run in runs]\n",
        "      max_length = max(len(run) for run in runs)\n",
        "\n",
        "      run_length_matrix = np.zeros((len(runs), max_length), dtype=int)\n",
        "\n",
        "      for i, run in enumerate(runs):\n",
        "          unique, counts = np.unique(run, return_counts=True)\n",
        "          run_length_matrix[i, unique] = counts\n",
        "\n",
        "      return run_length_matrix\n",
        "\n",
        "  rlm_matrix = calculate_run_length_matrix(image.tolist(), 'horizontal')\n",
        "\n",
        "  # Extracting features from the run length matrix\n",
        "  short_run_emphasis = np.sum(rlm_matrix / (np.arange(1, rlm_matrix.shape[1] + 1))[:, np.newaxis]) / np.sum(rlm_matrix)\n",
        "  long_run_emphasis = np.sum(rlm_matrix * (np.arange(1, rlm_matrix.shape[1] + 1))[:, np.newaxis]) / np.sum(rlm_matrix)\n",
        "  gray_level_nonuniformity = np.sum(np.sum(rlm_matrix, axis=1)**2) / np.sum(rlm_matrix)\n",
        "  run_length_nonuniformity = np.sum(np.sum(rlm_matrix, axis=0)**2) / np.sum(rlm_matrix)\n",
        "  low_gray_level_run_emphasis = np.sum(rlm_matrix / (np.arange(1, rlm_matrix.shape[0] + 1))[:, np.newaxis]) / np.sum(rlm_matrix)\n",
        "  high_gray_level_run_emphasis = np.sum(rlm_matrix * (np.arange(1, rlm_matrix.shape[0] + 1))[:, np.newaxis]) / np.sum(rlm_matrix)\n",
        "\n",
        "\n",
        "\n",
        "\n",
        "  #SHAPE BASED FEATURES\n",
        "  _, binary_mask = cv2.threshold(image, 128, 255, cv2.THRESH_BINARY)\n",
        "  # Finding contours in the binary mask\n",
        "  contours, _ = cv2.findContours(binary_mask, cv2.RETR_EXTERNAL, cv2.CHAIN_APPROX_SIMPLE)\n",
        "\n",
        "  for contour in contours:\n",
        "    area = cv2.contourArea(contour)\n",
        "    perimeter = cv2.arcLength(contour, True)\n",
        "    compactness = (perimeter ** 2) / area if area > 0 else 0\n",
        "    circularity = (4 * np.pi * area) / (perimeter ** 2) if perimeter > 0 else 0\n",
        "    # Calculating bounding box\n",
        "    x, y, w, h = cv2.boundingRect(contour)\n",
        "    aspect_ratio = w / h if h > 0 else 0\n",
        "\n",
        "\n",
        "\n",
        "  # columns = ['contrast','dissimilarity','energy','correlation','entropy','homogeneity','angular_second_moment','mean_gabor','standard_gabor','mean','variance','skewness',\n",
        "  #            'kurtosis','energy_histogram','entropy_histogram','short_run_emphasis','long_run_emphasis','gray_level_nonuniformity','run_length_nonuniformity',\n",
        "  #            'low_gray_level_run_emphasis','high_gray_level_run_emphasis','area','perimeter','compactness','circularity','aspect_ratio']\n",
        "\n",
        "  # features = pd.DataFrame(columns = columns)\n",
        "\n",
        "  features = [contrast,dissimilarity,energy,correlation,entropy,homogeneity,asm,mean_gabor,std_gabor,mean,variance,skewness,kurtosis,energy_histogram,entropy_histogram,\n",
        "         short_run_emphasis,long_run_emphasis,gray_level_nonuniformity,run_length_nonuniformity,low_gray_level_run_emphasis,high_gray_level_run_emphasis,area,perimeter,\n",
        "         compactness,circularity,aspect_ratio]\n",
        "\n",
        "  # features.loc[0] = row\n",
        "\n",
        "  return features"
      ],
      "metadata": {
        "id": "-nKKdI1kF-0W"
      },
      "execution_count": null,
      "outputs": []
    },
    {
      "cell_type": "code",
      "source": [
        "pre = preprocess_image(normal[0])\n",
        "cv2_imshow((pre*255).astype('uint8'))\n",
        "feature1 = feature_extraction((pre*255).astype('uint8'))\n",
        "feature1 = np.asarray(feature1)\n",
        "print(f'Number of features = {feature1.shape[0]}')\n",
        "feature1"
      ],
      "metadata": {
        "id": "h8jLgmzDjTTr",
        "colab": {
          "base_uri": "https://localhost:8080/",
          "height": 412
        },
        "outputId": "75cf60d2-08ab-4c4e-b630-40cb9ee44a13"
      },
      "execution_count": null,
      "outputs": [
        {
          "output_type": "display_data",
          "data": {
            "text/plain": [
              "<PIL.Image.Image image mode=L size=256x256>"
            ],
            "image/png": "[encoded data removed]"
          },
          "metadata": {}
        },
        {
          "output_type": "stream",
          "name": "stdout",
          "text": [
            "Number of features = 26\n"
          ]
        },
        {
          "output_type": "execute_result",
          "data": {
            "text/plain": [
              "array([ 5.12448422e+03,  6.19378525e+01,  2.75159493e-04,  4.70816218e+03,\n",
              "        1.78543932e+00,  2.42465365e-01,  2.75159493e-04,  5.09875336e+01,\n",
              "        3.62969756e+01,  1.22503204e+02,  5.58736284e+03,  6.20549284e-03,\n",
              "       -1.20934252e+00,  5.82973054e-03,  7.65927284e+00,  2.39232225e-02,\n",
              "        1.28500000e+02,  2.56000000e+02,  3.82057220e+02,  2.39232225e-02,\n",
              "        1.28500000e+02,  2.00000000e+00,  6.82842708e+00,  2.33137082e+01,\n",
              "        5.39012092e-01,  1.00000000e+00])"
            ]
          },
          "metadata": {},
          "execution_count": 31
        }
      ]
    },
    {
      "cell_type": "markdown",
      "source": [
        "# Calling function to preprocess images"
      ],
      "metadata": {
        "id": "7CgU5nH9L5Rs"
      }
    },
    {
      "cell_type": "code",
      "source": [
        "normal = extract_normal(count_normal)\n",
        "pneumo = extract_normal(count_pneumo)"
      ],
      "metadata": {
        "id": "zdzk4w2nu8oU"
      },
      "execution_count": null,
      "outputs": []
    },
    {
      "cell_type": "code",
      "source": [
        "normal = np.asarray(normal)\n",
        "pneumo = np.asarray(pneumo)"
      ],
      "metadata": {
        "id": "qRfwer-b4cJI"
      },
      "execution_count": null,
      "outputs": []
    },
    {
      "cell_type": "code",
      "source": [
        "normal.shape , pneumo.shape"
      ],
      "metadata": {
        "id": "knzDz6H94jy_",
        "colab": {
          "base_uri": "https://localhost:8080/"
        },
        "outputId": "6d5cf511-1659-4470-879c-bd2d5be2b19d"
      },
      "execution_count": null,
      "outputs": [
        {
          "output_type": "execute_result",
          "data": {
            "text/plain": [
              "((6846, 256, 256, 3), (2379, 256, 256, 3))"
            ]
          },
          "metadata": {},
          "execution_count": 34
        }
      ]
    },
    {
      "cell_type": "code",
      "source": [
        "all_images = np.concatenate((normal,pneumo))"
      ],
      "metadata": {
        "id": "rvBsvlCUqsIW"
      },
      "execution_count": null,
      "outputs": []
    },
    {
      "cell_type": "code",
      "source": [
        "# imagenormal = all_images[:500]\n",
        "# imagepneumo = pneumo[:500]\n",
        "# imagenormal = np.asarray(imagenormal)\n",
        "# imagepneumo = np.asarray(imagepneumo)\n",
        "# images = np.concatenate((imagenormal,imagepneumo))"
      ],
      "metadata": {
        "id": "GQaTjFJGsS7f"
      },
      "execution_count": null,
      "outputs": []
    },
    {
      "cell_type": "code",
      "source": [
        "preprocessed_array = []\n",
        "label = []\n",
        "for i in range(1500):\n",
        "  preprocessed1 =  preprocess_image(normal[i])\n",
        "  preprocessed_array.append(preprocessed1)\n",
        "  label.append(0)\n",
        "for i in range(500):\n",
        "  preprocessed2 =  preprocess_image(pneumo[i])\n",
        "  preprocessed_array.append(preprocessed2)\n",
        "  label.append(1)"
      ],
      "metadata": {
        "id": "-rGakVqB4nGX"
      },
      "execution_count": null,
      "outputs": []
    },
    {
      "cell_type": "code",
      "source": [
        "label = np.asarray(label)\n",
        "preprocessed_array = np.asarray(preprocessed_array)\n",
        "# images = np.asarray(images)"
      ],
      "metadata": {
        "id": "2FuSypj3sv_H"
      },
      "execution_count": null,
      "outputs": []
    },
    {
      "cell_type": "code",
      "source": [
        "# images.shape\n",
        "preprocessed_array.shape , label.shape"
      ],
      "metadata": {
        "id": "nAQmCcMvrXbY",
        "colab": {
          "base_uri": "https://localhost:8080/"
        },
        "outputId": "e2be5ba0-5c1b-4751-aaad-f36c8840b69a"
      },
      "execution_count": null,
      "outputs": [
        {
          "output_type": "execute_result",
          "data": {
            "text/plain": [
              "((2000, 256, 256), (2000,))"
            ]
          },
          "metadata": {},
          "execution_count": 39
        }
      ]
    },
    {
      "cell_type": "markdown",
      "source": [
        "# Calling function to extract features of images"
      ],
      "metadata": {
        "id": "9tkCRWe8MNxo"
      }
    },
    {
      "cell_type": "code",
      "source": [
        "feature_data = []\n",
        "for i in range(2000):\n",
        "  feature_of_1 = feature_extraction((preprocessed_array[i]*255).astype('uint8'))\n",
        "  feature_data.append(feature_of_1)"
      ],
      "metadata": {
        "id": "k4t4ks6IvQtl"
      },
      "execution_count": null,
      "outputs": []
    },
    {
      "cell_type": "code",
      "source": [
        "feature_names = ['contrast','dissimilarity','energy','correlation','entropy','homogeneity','angular_second_moment','mean_gabor','standard_gabor','mean',\n",
        "                                   'variance','skewness','kurtosis','energy_histogram','entropy_histogram','short_run_emphasis','long_run_emphasis','gray_level_nonuniformity',\n",
        "                                   'run_length_nonuniformity','low_gray_level_run_emphasis','high_gray_level_run_emphasis','area','perimeter','compactness','circularity',\n",
        "                                   'aspect_ratio']\n",
        "features = pd.DataFrame(feature_data , columns = feature_names)"
      ],
      "metadata": {
        "id": "97ZfEnjPMgAe"
      },
      "execution_count": null,
      "outputs": []
    },
    {
      "cell_type": "code",
      "source": [
        "print(features.shape)\n",
        "print(type(features))"
      ],
      "metadata": {
        "id": "FfSAun92y7XS",
        "colab": {
          "base_uri": "https://localhost:8080/"
        },
        "outputId": "ee9acf3b-c38d-45e9-f7ab-a2c4c46ed9c5"
      },
      "execution_count": null,
      "outputs": [
        {
          "output_type": "stream",
          "name": "stdout",
          "text": [
            "(2000, 26)\n",
            "<class 'pandas.core.frame.DataFrame'>\n"
          ]
        }
      ]
    },
    {
      "cell_type": "code",
      "source": [
        "features['label'] = label"
      ],
      "metadata": {
        "id": "-BhtM6VsSsDA"
      },
      "execution_count": null,
      "outputs": []
    },
    {
      "cell_type": "code",
      "source": [
        "features.shape"
      ],
      "metadata": {
        "id": "z8BjFZxDQnff",
        "colab": {
          "base_uri": "https://localhost:8080/"
        },
        "outputId": "fee43d8a-ca29-4f72-dae3-45f64ffeceee"
      },
      "execution_count": null,
      "outputs": [
        {
          "output_type": "execute_result",
          "data": {
            "text/plain": [
              "(2000, 27)"
            ]
          },
          "metadata": {},
          "execution_count": 44
        }
      ]
    },
    {
      "cell_type": "code",
      "source": [
        "features.head()"
      ],
      "metadata": {
        "id": "KOEwaLUrOQba",
        "colab": {
          "base_uri": "https://localhost:8080/",
          "height": 255
        },
        "outputId": "3f1dc575-7a48-453b-a8bc-43ea344325e9"
      },
      "execution_count": null,
      "outputs": [
        {
          "output_type": "execute_result",
          "data": {
            "text/plain": [
              "      contrast  dissimilarity    energy  correlation   entropy  homogeneity  \\\n",
              "0  5124.484221      61.937852  0.000275  4708.162183  1.785439     0.242465   \n",
              "1  5256.265364      62.542605  0.000343  4008.617570  1.593537     0.249199   \n",
              "2  4485.521968      57.628205  0.000333  5094.721939  1.660227     0.263055   \n",
              "3  5034.793287      60.972445  0.000368  3794.630167  1.635146     0.237169   \n",
              "4  5142.937360      61.584035  0.000399  3641.165584  1.460915     0.249929   \n",
              "\n",
              "   angular_second_moment  mean_gabor  standard_gabor        mean  ...  \\\n",
              "0               0.000275   50.987534       36.296976  122.503204  ...   \n",
              "1               0.000343   48.932800       37.531176  117.118134  ...   \n",
              "2               0.000333   49.398117       36.339939  119.186539  ...   \n",
              "3               0.000368   52.326813       36.069619  125.903717  ...   \n",
              "4               0.000399   48.809235       35.061676  119.521255  ...   \n",
              "\n",
              "   gray_level_nonuniformity  run_length_nonuniformity  \\\n",
              "0                     256.0                382.057220   \n",
              "1                     256.0                700.886108   \n",
              "2                     256.0                698.866669   \n",
              "3                     256.0                374.841492   \n",
              "4                     256.0                595.455383   \n",
              "\n",
              "   low_gray_level_run_emphasis  high_gray_level_run_emphasis     area  \\\n",
              "0                     0.023923                         128.5      2.0   \n",
              "1                     0.023923                         128.5  36993.5   \n",
              "2                     0.023923                         128.5      0.0   \n",
              "3                     0.023923                         128.5  46613.0   \n",
              "4                     0.023923                         128.5  35517.0   \n",
              "\n",
              "     perimeter  compactness  circularity  aspect_ratio  label  \n",
              "0     6.828427    23.313708     0.539012      1.000000      0  \n",
              "1  1928.663117   100.551216     0.124975      0.960630      0  \n",
              "2     0.000000     0.000000     0.000000      1.000000      0  \n",
              "3  1676.881371    60.325041     0.208311      1.000000      0  \n",
              "4  2034.812393   116.576892     0.107795      0.870079      0  \n",
              "\n",
              "[5 rows x 27 columns]"
            ],
            "text/html": [
              "\n",
              "  <div id=\"df-831ccf7a-9896-495e-b94f-86da06ac7e1c\" class=\"colab-df-container\">\n",
              "    <div>\n",
              "<style scoped>\n",
              "    .dataframe tbody tr th:only-of-type {\n",
              "        vertical-align: middle;\n",
              "    }\n",
              "\n",
              "    .dataframe tbody tr th {\n",
              "        vertical-align: top;\n",
              "    }\n",
              "\n",
              "    .dataframe thead th {\n",
              "        text-align: right;\n",
              "    }\n",
              "</style>\n",
              "<table border=\"1\" class=\"dataframe\">\n",
              "  <thead>\n",
              "    <tr style=\"text-align: right;\">\n",
              "      <th></th>\n",
              "      <th>contrast</th>\n",
              "      <th>dissimilarity</th>\n",
              "      <th>energy</th>\n",
              "      <th>correlation</th>\n",
              "      <th>entropy</th>\n",
              "      <th>homogeneity</th>\n",
              "      <th>angular_second_moment</th>\n",
              "      <th>mean_gabor</th>\n",
              "      <th>standard_gabor</th>\n",
              "      <th>mean</th>\n",
              "      <th>...</th>\n",
              "      <th>gray_level_nonuniformity</th>\n",
              "      <th>run_length_nonuniformity</th>\n",
              "      <th>low_gray_level_run_emphasis</th>\n",
              "      <th>high_gray_level_run_emphasis</th>\n",
              "      <th>area</th>\n",
              "      <th>perimeter</th>\n",
              "      <th>compactness</th>\n",
              "      <th>circularity</th>\n",
              "      <th>aspect_ratio</th>\n",
              "      <th>label</th>\n",
              "    </tr>\n",
              "  </thead>\n",
              "  <tbody>\n",
              "    <tr>\n",
              "      <th>0</th>\n",
              "      <td>5124.484221</td>\n",
              "      <td>61.937852</td>\n",
              "      <td>0.000275</td>\n",
              "      <td>4708.162183</td>\n",
              "      <td>1.785439</td>\n",
              "      <td>0.242465</td>\n",
              "      <td>0.000275</td>\n",
              "      <td>50.987534</td>\n",
              "      <td>36.296976</td>\n",
              "      <td>122.503204</td>\n",
              "      <td>...</td>\n",
              "      <td>256.0</td>\n",
              "      <td>382.057220</td>\n",
              "      <td>0.023923</td>\n",
              "      <td>128.5</td>\n",
              "      <td>2.0</td>\n",
              "      <td>6.828427</td>\n",
              "      <td>23.313708</td>\n",
              "      <td>0.539012</td>\n",
              "      <td>1.000000</td>\n",
              "      <td>0</td>\n",
              "    </tr>\n",
              "    <tr>\n",
              "      <th>1</th>\n",
              "      <td>5256.265364</td>\n",
              "      <td>62.542605</td>\n",
              "      <td>0.000343</td>\n",
              "      <td>4008.617570</td>\n",
              "      <td>1.593537</td>\n",
              "      <td>0.249199</td>\n",
              "      <td>0.000343</td>\n",
              "      <td>48.932800</td>\n",
              "      <td>37.531176</td>\n",
              "      <td>117.118134</td>\n",
              "      <td>...</td>\n",
              "      <td>256.0</td>\n",
              "      <td>700.886108</td>\n",
              "      <td>0.023923</td>\n",
              "      <td>128.5</td>\n",
              "      <td>36993.5</td>\n",
              "      <td>1928.663117</td>\n",
              "      <td>100.551216</td>\n",
              "      <td>0.124975</td>\n",
              "      <td>0.960630</td>\n",
              "      <td>0</td>\n",
              "    </tr>\n",
              "    <tr>\n",
              "      <th>2</th>\n",
              "      <td>4485.521968</td>\n",
              "      <td>57.628205</td>\n",
              "      <td>0.000333</td>\n",
              "      <td>5094.721939</td>\n",
              "      <td>1.660227</td>\n",
              "      <td>0.263055</td>\n",
              "      <td>0.000333</td>\n",
              "      <td>49.398117</td>\n",
              "      <td>36.339939</td>\n",
              "      <td>119.186539</td>\n",
              "      <td>...</td>\n",
              "      <td>256.0</td>\n",
              "      <td>698.866669</td>\n",
              "      <td>0.023923</td>\n",
              "      <td>128.5</td>\n",
              "      <td>0.0</td>\n",
              "      <td>0.000000</td>\n",
              "      <td>0.000000</td>\n",
              "      <td>0.000000</td>\n",
              "      <td>1.000000</td>\n",
              "      <td>0</td>\n",
              "    </tr>\n",
              "    <tr>\n",
              "      <th>3</th>\n",
              "      <td>5034.793287</td>\n",
              "      <td>60.972445</td>\n",
              "      <td>0.000368</td>\n",
              "      <td>3794.630167</td>\n",
              "      <td>1.635146</td>\n",
              "      <td>0.237169</td>\n",
              "      <td>0.000368</td>\n",
              "      <td>52.326813</td>\n",
              "      <td>36.069619</td>\n",
              "      <td>125.903717</td>\n",
              "      <td>...</td>\n",
              "      <td>256.0</td>\n",
              "      <td>374.841492</td>\n",
              "      <td>0.023923</td>\n",
              "      <td>128.5</td>\n",
              "      <td>46613.0</td>\n",
              "      <td>1676.881371</td>\n",
              "      <td>60.325041</td>\n",
              "      <td>0.208311</td>\n",
              "      <td>1.000000</td>\n",
              "      <td>0</td>\n",
              "    </tr>\n",
              "    <tr>\n",
              "      <th>4</th>\n",
              "      <td>5142.937360</td>\n",
              "      <td>61.584035</td>\n",
              "      <td>0.000399</td>\n",
              "      <td>3641.165584</td>\n",
              "      <td>1.460915</td>\n",
              "      <td>0.249929</td>\n",
              "      <td>0.000399</td>\n",
              "      <td>48.809235</td>\n",
              "      <td>35.061676</td>\n",
              "      <td>119.521255</td>\n",
              "      <td>...</td>\n",
              "      <td>256.0</td>\n",
              "      <td>595.455383</td>\n",
              "      <td>0.023923</td>\n",
              "      <td>128.5</td>\n",
              "      <td>35517.0</td>\n",
              "      <td>2034.812393</td>\n",
              "      <td>116.576892</td>\n",
              "      <td>0.107795</td>\n",
              "      <td>0.870079</td>\n",
              "      <td>0</td>\n",
              "    </tr>\n",
              "  </tbody>\n",
              "</table>\n",
              "<p>5 rows × 27 columns</p>\n",
              "</div>\n",
              "    <div class=\"colab-df-buttons\">\n",
              "\n",
              "  <div class=\"colab-df-container\">\n",
              "    <button class=\"colab-df-convert\" onclick=\"convertToInteractive('df-831ccf7a-9896-495e-b94f-86da06ac7e1c')\"\n",
              "            title=\"Convert this dataframe to an interactive table.\"\n",
              "            style=\"display:none;\">\n",
              "\n",
              "  <svg xmlns=\"http://www.w3.org/2000/svg\" height=\"24px\" viewBox=\"0 -960 960 960\">\n",
              "    <path d=\"M120-120v-720h720v720H120Zm60-500h600v-160H180v160Zm220 220h160v-160H400v160Zm0 220h160v-160H400v160ZM180-400h160v-160H180v160Zm440 0h160v-160H620v160ZM180-180h160v-160H180v160Zm440 0h160v-160H620v160Z\"/>\n",
              "  </svg>\n",
              "    </button>\n",
              "\n",
              "  <style>\n",
              "    .colab-df-container {\n",
              "      display:flex;\n",
              "      gap: 12px;\n",
              "    }\n",
              "\n",
              "    .colab-df-convert {\n",
              "      background-color: #E8F0FE;\n",
              "      border: none;\n",
              "      border-radius: 50%;\n",
              "      cursor: pointer;\n",
              "      display: none;\n",
              "      fill: #1967D2;\n",
              "      height: 32px;\n",
              "      padding: 0 0 0 0;\n",
              "      width: 32px;\n",
              "    }\n",
              "\n",
              "    .colab-df-convert:hover {\n",
              "      background-color: #E2EBFA;\n",
              "      box-shadow: 0px 1px 2px rgba(60, 64, 67, 0.3), 0px 1px 3px 1px rgba(60, 64, 67, 0.15);\n",
              "      fill: #174EA6;\n",
              "    }\n",
              "\n",
              "    .colab-df-buttons div {\n",
              "      margin-bottom: 4px;\n",
              "    }\n",
              "\n",
              "    [theme=dark] .colab-df-convert {\n",
              "      background-color: #3B4455;\n",
              "      fill: #D2E3FC;\n",
              "    }\n",
              "\n",
              "    [theme=dark] .colab-df-convert:hover {\n",
              "      background-color: #434B5C;\n",
              "      box-shadow: 0px 1px 3px 1px rgba(0, 0, 0, 0.15);\n",
              "      filter: drop-shadow(0px 1px 2px rgba(0, 0, 0, 0.3));\n",
              "      fill: #FFFFFF;\n",
              "    }\n",
              "  </style>\n",
              "\n",
              "    <script>\n",
              "      const buttonEl =\n",
              "        document.querySelector('#df-831ccf7a-9896-495e-b94f-86da06ac7e1c button.colab-df-convert');\n",
              "      buttonEl.style.display =\n",
              "        google.colab.kernel.accessAllowed ? 'block' : 'none';\n",
              "\n",
              "      async function convertToInteractive(key) {\n",
              "        const element = document.querySelector('#df-831ccf7a-9896-495e-b94f-86da06ac7e1c');\n",
              "        const dataTable =\n",
              "          await google.colab.kernel.invokeFunction('convertToInteractive',\n",
              "                                                    [key], {});\n",
              "        if (!dataTable) return;\n",
              "\n",
              "        const docLinkHtml = 'Like what you see? Visit the ' +\n",
              "          '<a target=\"_blank\" href=https://colab.research.google.com/notebooks/data_table.ipynb>data table notebook</a>'\n",
              "          + ' to learn more about interactive tables.';\n",
              "        element.innerHTML = '';\n",
              "        dataTable['output_type'] = 'display_data';\n",
              "        await google.colab.output.renderOutput(dataTable, element);\n",
              "        const docLink = document.createElement('div');\n",
              "        docLink.innerHTML = docLinkHtml;\n",
              "        element.appendChild(docLink);\n",
              "      }\n",
              "    </script>\n",
              "  </div>\n",
              "\n",
              "\n",
              "<div id=\"df-30d5c9c6-6b25-446b-8ddf-4c98467e9917\">\n",
              "  <button class=\"colab-df-quickchart\" onclick=\"quickchart('df-30d5c9c6-6b25-446b-8ddf-4c98467e9917')\"\n",
              "            title=\"Suggest charts\"\n",
              "            style=\"display:none;\">\n",
              "\n",
              "<svg xmlns=\"http://www.w3.org/2000/svg\" height=\"24px\"viewBox=\"0 0 24 24\"\n",
              "     width=\"24px\">\n",
              "    <g>\n",
              "        <path d=\"M19 3H5c-1.1 0-2 .9-2 2v14c0 1.1.9 2 2 2h14c1.1 0 2-.9 2-2V5c0-1.1-.9-2-2-2zM9 17H7v-7h2v7zm4 0h-2V7h2v10zm4 0h-2v-4h2v4z\"/>\n",
              "    </g>\n",
              "</svg>\n",
              "  </button>\n",
              "\n",
              "<style>\n",
              "  .colab-df-quickchart {\n",
              "      --bg-color: #E8F0FE;\n",
              "      --fill-color: #1967D2;\n",
              "      --hover-bg-color: #E2EBFA;\n",
              "      --hover-fill-color: #174EA6;\n",
              "      --disabled-fill-color: #AAA;\n",
              "      --disabled-bg-color: #DDD;\n",
              "  }\n",
              "\n",
              "  [theme=dark] .colab-df-quickchart {\n",
              "      --bg-color: #3B4455;\n",
              "      --fill-color: #D2E3FC;\n",
              "      --hover-bg-color: #434B5C;\n",
              "      --hover-fill-color: #FFFFFF;\n",
              "      --disabled-bg-color: #3B4455;\n",
              "      --disabled-fill-color: #666;\n",
              "  }\n",
              "\n",
              "  .colab-df-quickchart {\n",
              "    background-color: var(--bg-color);\n",
              "    border: none;\n",
              "    border-radius: 50%;\n",
              "    cursor: pointer;\n",
              "    display: none;\n",
              "    fill: var(--fill-color);\n",
              "    height: 32px;\n",
              "    padding: 0;\n",
              "    width: 32px;\n",
              "  }\n",
              "\n",
              "  .colab-df-quickchart:hover {\n",
              "    background-color: var(--hover-bg-color);\n",
              "    box-shadow: 0 1px 2px rgba(60, 64, 67, 0.3), 0 1px 3px 1px rgba(60, 64, 67, 0.15);\n",
              "    fill: var(--button-hover-fill-color);\n",
              "  }\n",
              "\n",
              "  .colab-df-quickchart-complete:disabled,\n",
              "  .colab-df-quickchart-complete:disabled:hover {\n",
              "    background-color: var(--disabled-bg-color);\n",
              "    fill: var(--disabled-fill-color);\n",
              "    box-shadow: none;\n",
              "  }\n",
              "\n",
              "  .colab-df-spinner {\n",
              "    border: 2px solid var(--fill-color);\n",
              "    border-color: transparent;\n",
              "    border-bottom-color: var(--fill-color);\n",
              "    animation:\n",
              "      spin 1s steps(1) infinite;\n",
              "  }\n",
              "\n",
              "  @keyframes spin {\n",
              "    0% {\n",
              "      border-color: transparent;\n",
              "      border-bottom-color: var(--fill-color);\n",
              "      border-left-color: var(--fill-color);\n",
              "    }\n",
              "    20% {\n",
              "      border-color: transparent;\n",
              "      border-left-color: var(--fill-color);\n",
              "      border-top-color: var(--fill-color);\n",
              "    }\n",
              "    30% {\n",
              "      border-color: transparent;\n",
              "      border-left-color: var(--fill-color);\n",
              "      border-top-color: var(--fill-color);\n",
              "      border-right-color: var(--fill-color);\n",
              "    }\n",
              "    40% {\n",
              "      border-color: transparent;\n",
              "      border-right-color: var(--fill-color);\n",
              "      border-top-color: var(--fill-color);\n",
              "    }\n",
              "    60% {\n",
              "      border-color: transparent;\n",
              "      border-right-color: var(--fill-color);\n",
              "    }\n",
              "    80% {\n",
              "      border-color: transparent;\n",
              "      border-right-color: var(--fill-color);\n",
              "      border-bottom-color: var(--fill-color);\n",
              "    }\n",
              "    90% {\n",
              "      border-color: transparent;\n",
              "      border-bottom-color: var(--fill-color);\n",
              "    }\n",
              "  }\n",
              "</style>\n",
              "\n",
              "  <script>\n",
              "    async function quickchart(key) {\n",
              "      const quickchartButtonEl =\n",
              "        document.querySelector('#' + key + ' button');\n",
              "      quickchartButtonEl.disabled = true;  // To prevent multiple clicks.\n",
              "      quickchartButtonEl.classList.add('colab-df-spinner');\n",
              "      try {\n",
              "        const charts = await google.colab.kernel.invokeFunction(\n",
              "            'suggestCharts', [key], {});\n",
              "      } catch (error) {\n",
              "        console.error('Error during call to suggestCharts:', error);\n",
              "      }\n",
              "      quickchartButtonEl.classList.remove('colab-df-spinner');\n",
              "      quickchartButtonEl.classList.add('colab-df-quickchart-complete');\n",
              "    }\n",
              "    (() => {\n",
              "      let quickchartButtonEl =\n",
              "        document.querySelector('#df-30d5c9c6-6b25-446b-8ddf-4c98467e9917 button');\n",
              "      quickchartButtonEl.style.display =\n",
              "        google.colab.kernel.accessAllowed ? 'block' : 'none';\n",
              "    })();\n",
              "  </script>\n",
              "</div>\n",
              "    </div>\n",
              "  </div>\n"
            ]
          },
          "metadata": {},
          "execution_count": 45
        }
      ]
    },
    {
      "cell_type": "code",
      "source": [
        "features.to_csv('features_file')"
      ],
      "metadata": {
        "id": "CBD8tjl-V5RW"
      },
      "execution_count": null,
      "outputs": []
    },
    {
      "cell_type": "code",
      "source": [
        "features_file = pd.read_csv('features_file')\n",
        "features_file.head()"
      ],
      "metadata": {
        "id": "xAx6SK0oMcUp",
        "colab": {
          "base_uri": "https://localhost:8080/",
          "height": 273
        },
        "outputId": "df9bea93-ec06-4701-b9b8-62fc49046a3d"
      },
      "execution_count": null,
      "outputs": [
        {
          "output_type": "execute_result",
          "data": {
            "text/plain": [
              "   Unnamed: 0     contrast  dissimilarity    energy  correlation   entropy  \\\n",
              "0           0  5124.484221      61.937852  0.000275  4708.162183  1.785439   \n",
              "1           1  5256.265364      62.542605  0.000343  4008.617570  1.593537   \n",
              "2           2  4485.521968      57.628205  0.000333  5094.721939  1.660227   \n",
              "3           3  5034.793287      60.972445  0.000368  3794.630167  1.635146   \n",
              "4           4  5142.937360      61.584035  0.000399  3641.165584  1.460915   \n",
              "\n",
              "   homogeneity  angular_second_moment  mean_gabor  standard_gabor  ...  \\\n",
              "0     0.242465               0.000275   50.987534       36.296976  ...   \n",
              "1     0.249199               0.000343   48.932800       37.531176  ...   \n",
              "2     0.263055               0.000333   49.398117       36.339939  ...   \n",
              "3     0.237169               0.000368   52.326813       36.069619  ...   \n",
              "4     0.249929               0.000399   48.809235       35.061676  ...   \n",
              "\n",
              "   gray_level_nonuniformity  run_length_nonuniformity  \\\n",
              "0                     256.0                382.057220   \n",
              "1                     256.0                700.886108   \n",
              "2                     256.0                698.866669   \n",
              "3                     256.0                374.841492   \n",
              "4                     256.0                595.455383   \n",
              "\n",
              "   low_gray_level_run_emphasis  high_gray_level_run_emphasis     area  \\\n",
              "0                     0.023923                         128.5      2.0   \n",
              "1                     0.023923                         128.5  36993.5   \n",
              "2                     0.023923                         128.5      0.0   \n",
              "3                     0.023923                         128.5  46613.0   \n",
              "4                     0.023923                         128.5  35517.0   \n",
              "\n",
              "     perimeter  compactness  circularity  aspect_ratio  label  \n",
              "0     6.828427    23.313708     0.539012      1.000000      0  \n",
              "1  1928.663117   100.551216     0.124975      0.960630      0  \n",
              "2     0.000000     0.000000     0.000000      1.000000      0  \n",
              "3  1676.881371    60.325041     0.208311      1.000000      0  \n",
              "4  2034.812393   116.576892     0.107795      0.870079      0  \n",
              "\n",
              "[5 rows x 28 columns]"
            ],
            "text/html": [
              "\n",
              "  <div id=\"df-e1cec4ee-b444-4fd0-972a-a2e2f4cb30c1\" class=\"colab-df-container\">\n",
              "    <div>\n",
              "<style scoped>\n",
              "    .dataframe tbody tr th:only-of-type {\n",
              "        vertical-align: middle;\n",
              "    }\n",
              "\n",
              "    .dataframe tbody tr th {\n",
              "        vertical-align: top;\n",
              "    }\n",
              "\n",
              "    .dataframe thead th {\n",
              "        text-align: right;\n",
              "    }\n",
              "</style>\n",
              "<table border=\"1\" class=\"dataframe\">\n",
              "  <thead>\n",
              "    <tr style=\"text-align: right;\">\n",
              "      <th></th>\n",
              "      <th>Unnamed: 0</th>\n",
              "      <th>contrast</th>\n",
              "      <th>dissimilarity</th>\n",
              "      <th>energy</th>\n",
              "      <th>correlation</th>\n",
              "      <th>entropy</th>\n",
              "      <th>homogeneity</th>\n",
              "      <th>angular_second_moment</th>\n",
              "      <th>mean_gabor</th>\n",
              "      <th>standard_gabor</th>\n",
              "      <th>...</th>\n",
              "      <th>gray_level_nonuniformity</th>\n",
              "      <th>run_length_nonuniformity</th>\n",
              "      <th>low_gray_level_run_emphasis</th>\n",
              "      <th>high_gray_level_run_emphasis</th>\n",
              "      <th>area</th>\n",
              "      <th>perimeter</th>\n",
              "      <th>compactness</th>\n",
              "      <th>circularity</th>\n",
              "      <th>aspect_ratio</th>\n",
              "      <th>label</th>\n",
              "    </tr>\n",
              "  </thead>\n",
              "  <tbody>\n",
              "    <tr>\n",
              "      <th>0</th>\n",
              "      <td>0</td>\n",
              "      <td>5124.484221</td>\n",
              "      <td>61.937852</td>\n",
              "      <td>0.000275</td>\n",
              "      <td>4708.162183</td>\n",
              "      <td>1.785439</td>\n",
              "      <td>0.242465</td>\n",
              "      <td>0.000275</td>\n",
              "      <td>50.987534</td>\n",
              "      <td>36.296976</td>\n",
              "      <td>...</td>\n",
              "      <td>256.0</td>\n",
              "      <td>382.057220</td>\n",
              "      <td>0.023923</td>\n",
              "      <td>128.5</td>\n",
              "      <td>2.0</td>\n",
              "      <td>6.828427</td>\n",
              "      <td>23.313708</td>\n",
              "      <td>0.539012</td>\n",
              "      <td>1.000000</td>\n",
              "      <td>0</td>\n",
              "    </tr>\n",
              "    <tr>\n",
              "      <th>1</th>\n",
              "      <td>1</td>\n",
              "      <td>5256.265364</td>\n",
              "      <td>62.542605</td>\n",
              "      <td>0.000343</td>\n",
              "      <td>4008.617570</td>\n",
              "      <td>1.593537</td>\n",
              "      <td>0.249199</td>\n",
              "      <td>0.000343</td>\n",
              "      <td>48.932800</td>\n",
              "      <td>37.531176</td>\n",
              "      <td>...</td>\n",
              "      <td>256.0</td>\n",
              "      <td>700.886108</td>\n",
              "      <td>0.023923</td>\n",
              "      <td>128.5</td>\n",
              "      <td>36993.5</td>\n",
              "      <td>1928.663117</td>\n",
              "      <td>100.551216</td>\n",
              "      <td>0.124975</td>\n",
              "      <td>0.960630</td>\n",
              "      <td>0</td>\n",
              "    </tr>\n",
              "    <tr>\n",
              "      <th>2</th>\n",
              "      <td>2</td>\n",
              "      <td>4485.521968</td>\n",
              "      <td>57.628205</td>\n",
              "      <td>0.000333</td>\n",
              "      <td>5094.721939</td>\n",
              "      <td>1.660227</td>\n",
              "      <td>0.263055</td>\n",
              "      <td>0.000333</td>\n",
              "      <td>49.398117</td>\n",
              "      <td>36.339939</td>\n",
              "      <td>...</td>\n",
              "      <td>256.0</td>\n",
              "      <td>698.866669</td>\n",
              "      <td>0.023923</td>\n",
              "      <td>128.5</td>\n",
              "      <td>0.0</td>\n",
              "      <td>0.000000</td>\n",
              "      <td>0.000000</td>\n",
              "      <td>0.000000</td>\n",
              "      <td>1.000000</td>\n",
              "      <td>0</td>\n",
              "    </tr>\n",
              "    <tr>\n",
              "      <th>3</th>\n",
              "      <td>3</td>\n",
              "      <td>5034.793287</td>\n",
              "      <td>60.972445</td>\n",
              "      <td>0.000368</td>\n",
              "      <td>3794.630167</td>\n",
              "      <td>1.635146</td>\n",
              "      <td>0.237169</td>\n",
              "      <td>0.000368</td>\n",
              "      <td>52.326813</td>\n",
              "      <td>36.069619</td>\n",
              "      <td>...</td>\n",
              "      <td>256.0</td>\n",
              "      <td>374.841492</td>\n",
              "      <td>0.023923</td>\n",
              "      <td>128.5</td>\n",
              "      <td>46613.0</td>\n",
              "      <td>1676.881371</td>\n",
              "      <td>60.325041</td>\n",
              "      <td>0.208311</td>\n",
              "      <td>1.000000</td>\n",
              "      <td>0</td>\n",
              "    </tr>\n",
              "    <tr>\n",
              "      <th>4</th>\n",
              "      <td>4</td>\n",
              "      <td>5142.937360</td>\n",
              "      <td>61.584035</td>\n",
              "      <td>0.000399</td>\n",
              "      <td>3641.165584</td>\n",
              "      <td>1.460915</td>\n",
              "      <td>0.249929</td>\n",
              "      <td>0.000399</td>\n",
              "      <td>48.809235</td>\n",
              "      <td>35.061676</td>\n",
              "      <td>...</td>\n",
              "      <td>256.0</td>\n",
              "      <td>595.455383</td>\n",
              "      <td>0.023923</td>\n",
              "      <td>128.5</td>\n",
              "      <td>35517.0</td>\n",
              "      <td>2034.812393</td>\n",
              "      <td>116.576892</td>\n",
              "      <td>0.107795</td>\n",
              "      <td>0.870079</td>\n",
              "      <td>0</td>\n",
              "    </tr>\n",
              "  </tbody>\n",
              "</table>\n",
              "<p>5 rows × 28 columns</p>\n",
              "</div>\n",
              "    <div class=\"colab-df-buttons\">\n",
              "\n",
              "  <div class=\"colab-df-container\">\n",
              "    <button class=\"colab-df-convert\" onclick=\"convertToInteractive('df-e1cec4ee-b444-4fd0-972a-a2e2f4cb30c1')\"\n",
              "            title=\"Convert this dataframe to an interactive table.\"\n",
              "            style=\"display:none;\">\n",
              "\n",
              "  <svg xmlns=\"http://www.w3.org/2000/svg\" height=\"24px\" viewBox=\"0 -960 960 960\">\n",
              "    <path d=\"M120-120v-720h720v720H120Zm60-500h600v-160H180v160Zm220 220h160v-160H400v160Zm0 220h160v-160H400v160ZM180-400h160v-160H180v160Zm440 0h160v-160H620v160ZM180-180h160v-160H180v160Zm440 0h160v-160H620v160Z\"/>\n",
              "  </svg>\n",
              "    </button>\n",
              "\n",
              "  <style>\n",
              "    .colab-df-container {\n",
              "      display:flex;\n",
              "      gap: 12px;\n",
              "    }\n",
              "\n",
              "    .colab-df-convert {\n",
              "      background-color: #E8F0FE;\n",
              "      border: none;\n",
              "      border-radius: 50%;\n",
              "      cursor: pointer;\n",
              "      display: none;\n",
              "      fill: #1967D2;\n",
              "      height: 32px;\n",
              "      padding: 0 0 0 0;\n",
              "      width: 32px;\n",
              "    }\n",
              "\n",
              "    .colab-df-convert:hover {\n",
              "      background-color: #E2EBFA;\n",
              "      box-shadow: 0px 1px 2px rgba(60, 64, 67, 0.3), 0px 1px 3px 1px rgba(60, 64, 67, 0.15);\n",
              "      fill: #174EA6;\n",
              "    }\n",
              "\n",
              "    .colab-df-buttons div {\n",
              "      margin-bottom: 4px;\n",
              "    }\n",
              "\n",
              "    [theme=dark] .colab-df-convert {\n",
              "      background-color: #3B4455;\n",
              "      fill: #D2E3FC;\n",
              "    }\n",
              "\n",
              "    [theme=dark] .colab-df-convert:hover {\n",
              "      background-color: #434B5C;\n",
              "      box-shadow: 0px 1px 3px 1px rgba(0, 0, 0, 0.15);\n",
              "      filter: drop-shadow(0px 1px 2px rgba(0, 0, 0, 0.3));\n",
              "      fill: #FFFFFF;\n",
              "    }\n",
              "  </style>\n",
              "\n",
              "    <script>\n",
              "      const buttonEl =\n",
              "        document.querySelector('#df-e1cec4ee-b444-4fd0-972a-a2e2f4cb30c1 button.colab-df-convert');\n",
              "      buttonEl.style.display =\n",
              "        google.colab.kernel.accessAllowed ? 'block' : 'none';\n",
              "\n",
              "      async function convertToInteractive(key) {\n",
              "        const element = document.querySelector('#df-e1cec4ee-b444-4fd0-972a-a2e2f4cb30c1');\n",
              "        const dataTable =\n",
              "          await google.colab.kernel.invokeFunction('convertToInteractive',\n",
              "                                                    [key], {});\n",
              "        if (!dataTable) return;\n",
              "\n",
              "        const docLinkHtml = 'Like what you see? Visit the ' +\n",
              "          '<a target=\"_blank\" href=https://colab.research.google.com/notebooks/data_table.ipynb>data table notebook</a>'\n",
              "          + ' to learn more about interactive tables.';\n",
              "        element.innerHTML = '';\n",
              "        dataTable['output_type'] = 'display_data';\n",
              "        await google.colab.output.renderOutput(dataTable, element);\n",
              "        const docLink = document.createElement('div');\n",
              "        docLink.innerHTML = docLinkHtml;\n",
              "        element.appendChild(docLink);\n",
              "      }\n",
              "    </script>\n",
              "  </div>\n",
              "\n",
              "\n",
              "<div id=\"df-a3b1cdb0-4930-4531-98b3-df4eb2261b34\">\n",
              "  <button class=\"colab-df-quickchart\" onclick=\"quickchart('df-a3b1cdb0-4930-4531-98b3-df4eb2261b34')\"\n",
              "            title=\"Suggest charts\"\n",
              "            style=\"display:none;\">\n",
              "\n",
              "<svg xmlns=\"http://www.w3.org/2000/svg\" height=\"24px\"viewBox=\"0 0 24 24\"\n",
              "     width=\"24px\">\n",
              "    <g>\n",
              "        <path d=\"M19 3H5c-1.1 0-2 .9-2 2v14c0 1.1.9 2 2 2h14c1.1 0 2-.9 2-2V5c0-1.1-.9-2-2-2zM9 17H7v-7h2v7zm4 0h-2V7h2v10zm4 0h-2v-4h2v4z\"/>\n",
              "    </g>\n",
              "</svg>\n",
              "  </button>\n",
              "\n",
              "<style>\n",
              "  .colab-df-quickchart {\n",
              "      --bg-color: #E8F0FE;\n",
              "      --fill-color: #1967D2;\n",
              "      --hover-bg-color: #E2EBFA;\n",
              "      --hover-fill-color: #174EA6;\n",
              "      --disabled-fill-color: #AAA;\n",
              "      --disabled-bg-color: #DDD;\n",
              "  }\n",
              "\n",
              "  [theme=dark] .colab-df-quickchart {\n",
              "      --bg-color: #3B4455;\n",
              "      --fill-color: #D2E3FC;\n",
              "      --hover-bg-color: #434B5C;\n",
              "      --hover-fill-color: #FFFFFF;\n",
              "      --disabled-bg-color: #3B4455;\n",
              "      --disabled-fill-color: #666;\n",
              "  }\n",
              "\n",
              "  .colab-df-quickchart {\n",
              "    background-color: var(--bg-color);\n",
              "    border: none;\n",
              "    border-radius: 50%;\n",
              "    cursor: pointer;\n",
              "    display: none;\n",
              "    fill: var(--fill-color);\n",
              "    height: 32px;\n",
              "    padding: 0;\n",
              "    width: 32px;\n",
              "  }\n",
              "\n",
              "  .colab-df-quickchart:hover {\n",
              "    background-color: var(--hover-bg-color);\n",
              "    box-shadow: 0 1px 2px rgba(60, 64, 67, 0.3), 0 1px 3px 1px rgba(60, 64, 67, 0.15);\n",
              "    fill: var(--button-hover-fill-color);\n",
              "  }\n",
              "\n",
              "  .colab-df-quickchart-complete:disabled,\n",
              "  .colab-df-quickchart-complete:disabled:hover {\n",
              "    background-color: var(--disabled-bg-color);\n",
              "    fill: var(--disabled-fill-color);\n",
              "    box-shadow: none;\n",
              "  }\n",
              "\n",
              "  .colab-df-spinner {\n",
              "    border: 2px solid var(--fill-color);\n",
              "    border-color: transparent;\n",
              "    border-bottom-color: var(--fill-color);\n",
              "    animation:\n",
              "      spin 1s steps(1) infinite;\n",
              "  }\n",
              "\n",
              "  @keyframes spin {\n",
              "    0% {\n",
              "      border-color: transparent;\n",
              "      border-bottom-color: var(--fill-color);\n",
              "      border-left-color: var(--fill-color);\n",
              "    }\n",
              "    20% {\n",
              "      border-color: transparent;\n",
              "      border-left-color: var(--fill-color);\n",
              "      border-top-color: var(--fill-color);\n",
              "    }\n",
              "    30% {\n",
              "      border-color: transparent;\n",
              "      border-left-color: var(--fill-color);\n",
              "      border-top-color: var(--fill-color);\n",
              "      border-right-color: var(--fill-color);\n",
              "    }\n",
              "    40% {\n",
              "      border-color: transparent;\n",
              "      border-right-color: var(--fill-color);\n",
              "      border-top-color: var(--fill-color);\n",
              "    }\n",
              "    60% {\n",
              "      border-color: transparent;\n",
              "      border-right-color: var(--fill-color);\n",
              "    }\n",
              "    80% {\n",
              "      border-color: transparent;\n",
              "      border-right-color: var(--fill-color);\n",
              "      border-bottom-color: var(--fill-color);\n",
              "    }\n",
              "    90% {\n",
              "      border-color: transparent;\n",
              "      border-bottom-color: var(--fill-color);\n",
              "    }\n",
              "  }\n",
              "</style>\n",
              "\n",
              "  <script>\n",
              "    async function quickchart(key) {\n",
              "      const quickchartButtonEl =\n",
              "        document.querySelector('#' + key + ' button');\n",
              "      quickchartButtonEl.disabled = true;  // To prevent multiple clicks.\n",
              "      quickchartButtonEl.classList.add('colab-df-spinner');\n",
              "      try {\n",
              "        const charts = await google.colab.kernel.invokeFunction(\n",
              "            'suggestCharts', [key], {});\n",
              "      } catch (error) {\n",
              "        console.error('Error during call to suggestCharts:', error);\n",
              "      }\n",
              "      quickchartButtonEl.classList.remove('colab-df-spinner');\n",
              "      quickchartButtonEl.classList.add('colab-df-quickchart-complete');\n",
              "    }\n",
              "    (() => {\n",
              "      let quickchartButtonEl =\n",
              "        document.querySelector('#df-a3b1cdb0-4930-4531-98b3-df4eb2261b34 button');\n",
              "      quickchartButtonEl.style.display =\n",
              "        google.colab.kernel.accessAllowed ? 'block' : 'none';\n",
              "    })();\n",
              "  </script>\n",
              "</div>\n",
              "    </div>\n",
              "  </div>\n"
            ]
          },
          "metadata": {},
          "execution_count": 47
        }
      ]
    },
    {
      "cell_type": "markdown",
      "source": [
        "# CREATING TRAIN AND TEST SETS"
      ],
      "metadata": {
        "id": "vRQ72PuLu3Ef"
      }
    },
    {
      "cell_type": "code",
      "source": [
        "x = features.iloc[:,:26]\n",
        "x.info()"
      ],
      "metadata": {
        "id": "RzrngOKrZXD8",
        "colab": {
          "base_uri": "https://localhost:8080/"
        },
        "outputId": "ec71077c-2e60-4eeb-ddf7-b6ddab47fcbb"
      },
      "execution_count": null,
      "outputs": [
        {
          "output_type": "stream",
          "name": "stdout",
          "text": [
            "<class 'pandas.core.frame.DataFrame'>\n",
            "RangeIndex: 2000 entries, 0 to 1999\n",
            "Data columns (total 26 columns):\n",
            " #   Column                        Non-Null Count  Dtype  \n",
            "---  ------                        --------------  -----  \n",
            " 0   contrast                      2000 non-null   float64\n",
            " 1   dissimilarity                 2000 non-null   float64\n",
            " 2   energy                        2000 non-null   float64\n",
            " 3   correlation                   2000 non-null   float64\n",
            " 4   entropy                       2000 non-null   float64\n",
            " 5   homogeneity                   2000 non-null   float64\n",
            " 6   angular_second_moment         2000 non-null   float64\n",
            " 7   mean_gabor                    2000 non-null   float64\n",
            " 8   standard_gabor                2000 non-null   float64\n",
            " 9   mean                          2000 non-null   float64\n",
            " 10  variance                      2000 non-null   float64\n",
            " 11  skewness                      2000 non-null   float64\n",
            " 12  kurtosis                      2000 non-null   float64\n",
            " 13  energy_histogram              2000 non-null   float64\n",
            " 14  entropy_histogram             2000 non-null   float64\n",
            " 15  short_run_emphasis            2000 non-null   float64\n",
            " 16  long_run_emphasis             2000 non-null   float64\n",
            " 17  gray_level_nonuniformity      2000 non-null   float64\n",
            " 18  run_length_nonuniformity      2000 non-null   float64\n",
            " 19  low_gray_level_run_emphasis   2000 non-null   float64\n",
            " 20  high_gray_level_run_emphasis  2000 non-null   float64\n",
            " 21  area                          2000 non-null   float64\n",
            " 22  perimeter                     2000 non-null   float64\n",
            " 23  compactness                   2000 non-null   float64\n",
            " 24  circularity                   2000 non-null   float64\n",
            " 25  aspect_ratio                  2000 non-null   float64\n",
            "dtypes: float64(26)\n",
            "memory usage: 406.4 KB\n"
          ]
        }
      ]
    },
    {
      "cell_type": "code",
      "source": [
        "y = features['label']\n",
        "y.info()"
      ],
      "metadata": {
        "id": "CZ61kKO6Zo-a",
        "colab": {
          "base_uri": "https://localhost:8080/"
        },
        "outputId": "d76a8c26-96d7-4405-c0d4-2637c2bb0842"
      },
      "execution_count": null,
      "outputs": [
        {
          "output_type": "stream",
          "name": "stdout",
          "text": [
            "<class 'pandas.core.series.Series'>\n",
            "RangeIndex: 2000 entries, 0 to 1999\n",
            "Series name: label\n",
            "Non-Null Count  Dtype\n",
            "--------------  -----\n",
            "2000 non-null   int64\n",
            "dtypes: int64(1)\n",
            "memory usage: 15.8 KB\n"
          ]
        }
      ]
    },
    {
      "cell_type": "code",
      "source": [
        "x_train , x_test , y_train , y_test = tts(x , y , test_size=0.2 , shuffle=True , random_state=42 , stratify=y)"
      ],
      "metadata": {
        "id": "MB2GdDGfpEmF"
      },
      "execution_count": null,
      "outputs": []
    },
    {
      "cell_type": "markdown",
      "source": [
        "# Scaling / Normalizing the data (features)"
      ],
      "metadata": {
        "id": "TyI2gTbbNAI-"
      }
    },
    {
      "cell_type": "code",
      "source": [
        "scaler = StandardScaler()\n",
        "x_train_normal = scaler.fit_transform(x_train)\n",
        "x_test_normal = scaler.transform(x_test)"
      ],
      "metadata": {
        "id": "-JEbxVmqKDyb"
      },
      "execution_count": null,
      "outputs": []
    },
    {
      "cell_type": "markdown",
      "source": [
        "# Applying Support Vector Machine (SVM)"
      ],
      "metadata": {
        "id": "pHjDHHTobxq_"
      }
    },
    {
      "cell_type": "code",
      "source": [
        "svm_model = SVC(random_state=42 , kernel='rbf' , C=50)\n",
        "svm_model.fit(x_train_normal , y_train)\n",
        "y_prediction = svm_model.predict(x_test_normal)\n",
        "\n",
        "accuracy = accuracy_score(y_prediction , y_test)\n",
        "print(f'accuracy of model is: {accuracy*100}%')\n",
        "y_prediction"
      ],
      "metadata": {
        "id": "xpxQmzQJcAFt",
        "colab": {
          "base_uri": "https://localhost:8080/"
        },
        "outputId": "5a322f7a-40c0-44c7-979a-071112da21a9"
      },
      "execution_count": null,
      "outputs": [
        {
          "output_type": "stream",
          "name": "stdout",
          "text": [
            "accuracy of model is: 72.0%\n"
          ]
        },
        {
          "output_type": "execute_result",
          "data": {
            "text/plain": [
              "array([0, 0, 0, 0, 0, 0, 0, 0, 0, 0, 0, 0, 0, 0, 0, 0, 0, 0, 0, 0, 0, 0,\n",
              "       0, 0, 0, 0, 0, 0, 0, 0, 0, 0, 1, 0, 0, 0, 0, 0, 0, 0, 0, 0, 0, 0,\n",
              "       0, 0, 0, 1, 1, 0, 0, 0, 0, 0, 0, 0, 0, 0, 0, 0, 0, 0, 0, 0, 0, 0,\n",
              "       0, 0, 0, 0, 0, 0, 0, 0, 0, 0, 0, 0, 0, 0, 0, 0, 0, 0, 0, 0, 1, 0,\n",
              "       0, 0, 0, 0, 0, 0, 0, 0, 0, 0, 0, 0, 0, 0, 0, 0, 0, 0, 0, 0, 1, 0,\n",
              "       0, 0, 0, 1, 0, 0, 0, 0, 0, 1, 0, 0, 0, 0, 0, 0, 0, 0, 0, 0, 0, 0,\n",
              "       0, 0, 0, 1, 0, 0, 0, 0, 0, 0, 0, 0, 0, 0, 0, 0, 0, 0, 0, 0, 0, 0,\n",
              "       0, 0, 1, 0, 0, 0, 0, 0, 0, 0, 0, 0, 0, 0, 0, 0, 0, 0, 0, 0, 0, 0,\n",
              "       0, 0, 0, 0, 0, 1, 0, 0, 0, 0, 0, 0, 0, 0, 0, 0, 0, 0, 0, 0, 0, 0,\n",
              "       0, 0, 0, 0, 0, 0, 0, 0, 0, 0, 0, 0, 0, 1, 0, 0, 0, 0, 0, 0, 0, 0,\n",
              "       0, 0, 0, 0, 0, 0, 0, 0, 0, 0, 0, 0, 0, 0, 0, 0, 0, 1, 0, 0, 0, 0,\n",
              "       0, 0, 0, 0, 0, 0, 0, 0, 0, 0, 0, 0, 0, 0, 0, 0, 0, 0, 0, 0, 0, 0,\n",
              "       0, 0, 0, 0, 0, 0, 0, 0, 0, 1, 0, 0, 0, 0, 0, 0, 0, 0, 0, 0, 0, 0,\n",
              "       0, 0, 0, 0, 0, 0, 1, 0, 0, 0, 0, 0, 0, 1, 0, 0, 0, 0, 0, 0, 0, 0,\n",
              "       0, 0, 0, 0, 0, 0, 0, 0, 0, 0, 0, 0, 0, 0, 0, 0, 1, 0, 0, 0, 0, 0,\n",
              "       0, 0, 0, 0, 0, 0, 0, 0, 0, 0, 0, 0, 0, 0, 0, 0, 0, 0, 0, 0, 0, 0,\n",
              "       0, 0, 0, 0, 0, 0, 0, 0, 0, 0, 0, 0, 0, 0, 0, 0, 0, 0, 0, 0, 0, 0,\n",
              "       0, 0, 0, 0, 0, 0, 0, 0, 0, 0, 0, 0, 0, 0, 0, 0, 0, 0, 0, 0, 0, 0,\n",
              "       0, 0, 0, 0])"
            ]
          },
          "metadata": {},
          "execution_count": 121
        }
      ]
    },
    {
      "cell_type": "code",
      "source": [
        "class SVM:\n",
        "\n",
        "    def __init__(self, C = 1.0):\n",
        "        # C = error term\n",
        "        self.C = C\n",
        "        self.w = 0\n",
        "        self.b = 0\n",
        "\n",
        "    # Hinge Loss Function / Calculation\n",
        "    def hingeloss(self, w, b, x, y):\n",
        "        # Regularizer term\n",
        "        reg = 0.5 * (w * w)\n",
        "\n",
        "        for i in range(x.shape[0]):\n",
        "            # Optimization term\n",
        "            opt_term = y[i] * ((np.dot(w, x[i])) + b)\n",
        "\n",
        "            # calculating loss\n",
        "            loss = reg + self.C * max(0, 1-opt_term)\n",
        "        return loss[0][0]\n",
        "\n",
        "    def fit(self, X, Y, batch_size=100, learning_rate=0.001, epochs=1000):\n",
        "        # The number of features in X\n",
        "        number_of_features = X.shape[1]\n",
        "\n",
        "        # The number of Samples in X\n",
        "        number_of_samples = X.shape[0]\n",
        "\n",
        "        c = self.C\n",
        "\n",
        "        # Creating ids from 0 to number_of_samples - 1\n",
        "        ids = np.arange(number_of_samples)\n",
        "\n",
        "        # Shuffling the samples randomly\n",
        "        np.random.shuffle(ids)\n",
        "\n",
        "        # creating an array of zeros\n",
        "        w = np.zeros((1, number_of_features))\n",
        "        b = 0\n",
        "        losses = []\n",
        "\n",
        "        # Gradient Descent logic\n",
        "        for i in range(epochs):\n",
        "            # Calculating the Hinge Loss\n",
        "            l = self.hingeloss(w, b, X, Y)\n",
        "\n",
        "            # Appending all losses\n",
        "            losses.append(l)\n",
        "\n",
        "            # Starting from 0 to the number of samples with batch_size as interval\n",
        "            for batch_initial in range(0, number_of_samples, batch_size):\n",
        "                gradw = 0\n",
        "                gradb = 0\n",
        "\n",
        "                for j in range(batch_initial, batch_initial+ batch_size):\n",
        "                    if j < number_of_samples:\n",
        "                        x = ids[j]\n",
        "                        ti = Y[x] * (np.dot(w, X[x].T) + b)\n",
        "\n",
        "                        if ti > 1:\n",
        "                            gradw += 0\n",
        "                            gradb += 0\n",
        "                        else:\n",
        "                            # Calculating the gradients\n",
        "\n",
        "                            #w.r.t w\n",
        "                            gradw += c * Y[x] * X[x]\n",
        "                            # w.r.t b\n",
        "                            gradb += c * Y[x]\n",
        "\n",
        "                # Updating weights and bias\n",
        "                w = w - learning_rate * w + learning_rate * gradw\n",
        "                b = b + learning_rate * gradb\n",
        "\n",
        "        self.w = w\n",
        "        self.b = b\n",
        "\n",
        "        return self.w, self.b, losses\n",
        "\n",
        "    def predict(self, X):\n",
        "\n",
        "        prediction = np.dot(X, self.w[0]) + self.b # w.x + b\n",
        "        return np.sign(prediction)"
      ],
      "metadata": {
        "id": "sN6QhuJXeDxM"
      },
      "execution_count": null,
      "outputs": []
    },
    {
      "cell_type": "code",
      "source": [
        "# svm = SVM()\n",
        "\n",
        "# w, b, losses = svm.fit(x_train, y_train)\n",
        "# prediction = svm.predict(x_test)\n",
        "\n",
        "# # Loss value\n",
        "# lss = losses.pop()\n",
        "\n",
        "# print(\"Loss:\", lss)\n",
        "# print(\"Prediction:\", prediction)\n",
        "# print(\"Accuracy:\", accuracy_score(prediction, y_test))\n",
        "# print(\"w, b:\", [w, b])"
      ],
      "metadata": {
        "id": "q2m5JgzzeIIm",
        "colab": {
          "base_uri": "https://localhost:8080/",
          "height": 511
        },
        "outputId": "7f9ea319-dbc9-4226-860f-05c5c797477e"
      },
      "execution_count": null,
      "outputs": [
        {
          "output_type": "error",
          "ename": "KeyError",
          "evalue": "ignored",
          "traceback": [
            "\u001b[0;31m---------------------------------------------------------------------------\u001b[0m",
            "\u001b[0;31mKeyError\u001b[0m                                  Traceback (most recent call last)",
            "\u001b[0;32m/usr/local/lib/python3.10/dist-packages/pandas/core/indexes/base.py\u001b[0m in \u001b[0;36mget_loc\u001b[0;34m(self, key, method, tolerance)\u001b[0m\n\u001b[1;32m   3801\u001b[0m             \u001b[0;32mtry\u001b[0m\u001b[0;34m:\u001b[0m\u001b[0;34m\u001b[0m\u001b[0;34m\u001b[0m\u001b[0m\n\u001b[0;32m-> 3802\u001b[0;31m                 \u001b[0;32mreturn\u001b[0m \u001b[0mself\u001b[0m\u001b[0;34m.\u001b[0m\u001b[0m_engine\u001b[0m\u001b[0;34m.\u001b[0m\u001b[0mget_loc\u001b[0m\u001b[0;34m(\u001b[0m\u001b[0mcasted_key\u001b[0m\u001b[0;34m)\u001b[0m\u001b[0;34m\u001b[0m\u001b[0;34m\u001b[0m\u001b[0m\n\u001b[0m\u001b[1;32m   3803\u001b[0m             \u001b[0;32mexcept\u001b[0m \u001b[0mKeyError\u001b[0m \u001b[0;32mas\u001b[0m \u001b[0merr\u001b[0m\u001b[0;34m:\u001b[0m\u001b[0;34m\u001b[0m\u001b[0;34m\u001b[0m\u001b[0m\n",
            "\u001b[0;32m/usr/local/lib/python3.10/dist-packages/pandas/_libs/index.pyx\u001b[0m in \u001b[0;36mpandas._libs.index.IndexEngine.get_loc\u001b[0;34m()\u001b[0m\n",
            "\u001b[0;32m/usr/local/lib/python3.10/dist-packages/pandas/_libs/index.pyx\u001b[0m in \u001b[0;36mpandas._libs.index.IndexEngine.get_loc\u001b[0;34m()\u001b[0m\n",
            "\u001b[0;32mpandas/_libs/hashtable_class_helper.pxi\u001b[0m in \u001b[0;36mpandas._libs.hashtable.PyObjectHashTable.get_item\u001b[0;34m()\u001b[0m\n",
            "\u001b[0;32mpandas/_libs/hashtable_class_helper.pxi\u001b[0m in \u001b[0;36mpandas._libs.hashtable.PyObjectHashTable.get_item\u001b[0;34m()\u001b[0m\n",
            "\u001b[0;31mKeyError\u001b[0m: 0",
            "\nThe above exception was the direct cause of the following exception:\n",
            "\u001b[0;31mKeyError\u001b[0m                                  Traceback (most recent call last)",
            "\u001b[0;32m<ipython-input-93-bdadb0fb07f9>\u001b[0m in \u001b[0;36m<cell line: 3>\u001b[0;34m()\u001b[0m\n\u001b[1;32m      1\u001b[0m \u001b[0msvm\u001b[0m \u001b[0;34m=\u001b[0m \u001b[0mSVM\u001b[0m\u001b[0;34m(\u001b[0m\u001b[0;34m)\u001b[0m\u001b[0;34m\u001b[0m\u001b[0;34m\u001b[0m\u001b[0m\n\u001b[1;32m      2\u001b[0m \u001b[0;34m\u001b[0m\u001b[0m\n\u001b[0;32m----> 3\u001b[0;31m \u001b[0mw\u001b[0m\u001b[0;34m,\u001b[0m \u001b[0mb\u001b[0m\u001b[0;34m,\u001b[0m \u001b[0mlosses\u001b[0m \u001b[0;34m=\u001b[0m \u001b[0msvm\u001b[0m\u001b[0;34m.\u001b[0m\u001b[0mfit\u001b[0m\u001b[0;34m(\u001b[0m\u001b[0mx_train\u001b[0m\u001b[0;34m,\u001b[0m \u001b[0my_train\u001b[0m\u001b[0;34m)\u001b[0m\u001b[0;34m\u001b[0m\u001b[0;34m\u001b[0m\u001b[0m\n\u001b[0m\u001b[1;32m      4\u001b[0m \u001b[0mprediction\u001b[0m \u001b[0;34m=\u001b[0m \u001b[0msvm\u001b[0m\u001b[0;34m.\u001b[0m\u001b[0mpredict\u001b[0m\u001b[0;34m(\u001b[0m\u001b[0mx_test\u001b[0m\u001b[0;34m)\u001b[0m\u001b[0;34m\u001b[0m\u001b[0;34m\u001b[0m\u001b[0m\n\u001b[1;32m      5\u001b[0m \u001b[0;34m\u001b[0m\u001b[0m\n",
            "\u001b[0;32m<ipython-input-53-cb1bcabfbfb2>\u001b[0m in \u001b[0;36mfit\u001b[0;34m(self, X, Y, batch_size, learning_rate, epochs)\u001b[0m\n\u001b[1;32m     43\u001b[0m         \u001b[0;32mfor\u001b[0m \u001b[0mi\u001b[0m \u001b[0;32min\u001b[0m \u001b[0mrange\u001b[0m\u001b[0;34m(\u001b[0m\u001b[0mepochs\u001b[0m\u001b[0;34m)\u001b[0m\u001b[0;34m:\u001b[0m\u001b[0;34m\u001b[0m\u001b[0;34m\u001b[0m\u001b[0m\n\u001b[1;32m     44\u001b[0m             \u001b[0;31m# Calculating the Hinge Loss\u001b[0m\u001b[0;34m\u001b[0m\u001b[0;34m\u001b[0m\u001b[0m\n\u001b[0;32m---> 45\u001b[0;31m             \u001b[0ml\u001b[0m \u001b[0;34m=\u001b[0m \u001b[0mself\u001b[0m\u001b[0;34m.\u001b[0m\u001b[0mhingeloss\u001b[0m\u001b[0;34m(\u001b[0m\u001b[0mw\u001b[0m\u001b[0;34m,\u001b[0m \u001b[0mb\u001b[0m\u001b[0;34m,\u001b[0m \u001b[0mX\u001b[0m\u001b[0;34m,\u001b[0m \u001b[0mY\u001b[0m\u001b[0;34m)\u001b[0m\u001b[0;34m\u001b[0m\u001b[0;34m\u001b[0m\u001b[0m\n\u001b[0m\u001b[1;32m     46\u001b[0m \u001b[0;34m\u001b[0m\u001b[0m\n\u001b[1;32m     47\u001b[0m             \u001b[0;31m# Appending all losses\u001b[0m\u001b[0;34m\u001b[0m\u001b[0;34m\u001b[0m\u001b[0m\n",
            "\u001b[0;32m<ipython-input-53-cb1bcabfbfb2>\u001b[0m in \u001b[0;36mhingeloss\u001b[0;34m(self, w, b, x, y)\u001b[0m\n\u001b[1;32m     14\u001b[0m         \u001b[0;32mfor\u001b[0m \u001b[0mi\u001b[0m \u001b[0;32min\u001b[0m \u001b[0mrange\u001b[0m\u001b[0;34m(\u001b[0m\u001b[0mx\u001b[0m\u001b[0;34m.\u001b[0m\u001b[0mshape\u001b[0m\u001b[0;34m[\u001b[0m\u001b[0;36m0\u001b[0m\u001b[0;34m]\u001b[0m\u001b[0;34m)\u001b[0m\u001b[0;34m:\u001b[0m\u001b[0;34m\u001b[0m\u001b[0;34m\u001b[0m\u001b[0m\n\u001b[1;32m     15\u001b[0m             \u001b[0;31m# Optimization term\u001b[0m\u001b[0;34m\u001b[0m\u001b[0;34m\u001b[0m\u001b[0m\n\u001b[0;32m---> 16\u001b[0;31m             \u001b[0mopt_term\u001b[0m \u001b[0;34m=\u001b[0m \u001b[0my\u001b[0m\u001b[0;34m[\u001b[0m\u001b[0mi\u001b[0m\u001b[0;34m]\u001b[0m \u001b[0;34m*\u001b[0m \u001b[0;34m(\u001b[0m\u001b[0;34m(\u001b[0m\u001b[0mnp\u001b[0m\u001b[0;34m.\u001b[0m\u001b[0mdot\u001b[0m\u001b[0;34m(\u001b[0m\u001b[0mw\u001b[0m\u001b[0;34m,\u001b[0m \u001b[0mx\u001b[0m\u001b[0;34m[\u001b[0m\u001b[0mi\u001b[0m\u001b[0;34m]\u001b[0m\u001b[0;34m)\u001b[0m\u001b[0;34m)\u001b[0m \u001b[0;34m+\u001b[0m \u001b[0mb\u001b[0m\u001b[0;34m)\u001b[0m\u001b[0;34m\u001b[0m\u001b[0;34m\u001b[0m\u001b[0m\n\u001b[0m\u001b[1;32m     17\u001b[0m \u001b[0;34m\u001b[0m\u001b[0m\n\u001b[1;32m     18\u001b[0m             \u001b[0;31m# calculating loss\u001b[0m\u001b[0;34m\u001b[0m\u001b[0;34m\u001b[0m\u001b[0m\n",
            "\u001b[0;32m/usr/local/lib/python3.10/dist-packages/pandas/core/frame.py\u001b[0m in \u001b[0;36m__getitem__\u001b[0;34m(self, key)\u001b[0m\n\u001b[1;32m   3805\u001b[0m             \u001b[0;32mif\u001b[0m \u001b[0mself\u001b[0m\u001b[0;34m.\u001b[0m\u001b[0mcolumns\u001b[0m\u001b[0;34m.\u001b[0m\u001b[0mnlevels\u001b[0m \u001b[0;34m>\u001b[0m \u001b[0;36m1\u001b[0m\u001b[0;34m:\u001b[0m\u001b[0;34m\u001b[0m\u001b[0;34m\u001b[0m\u001b[0m\n\u001b[1;32m   3806\u001b[0m                 \u001b[0;32mreturn\u001b[0m \u001b[0mself\u001b[0m\u001b[0;34m.\u001b[0m\u001b[0m_getitem_multilevel\u001b[0m\u001b[0;34m(\u001b[0m\u001b[0mkey\u001b[0m\u001b[0;34m)\u001b[0m\u001b[0;34m\u001b[0m\u001b[0;34m\u001b[0m\u001b[0m\n\u001b[0;32m-> 3807\u001b[0;31m             \u001b[0mindexer\u001b[0m \u001b[0;34m=\u001b[0m \u001b[0mself\u001b[0m\u001b[0;34m.\u001b[0m\u001b[0mcolumns\u001b[0m\u001b[0;34m.\u001b[0m\u001b[0mget_loc\u001b[0m\u001b[0;34m(\u001b[0m\u001b[0mkey\u001b[0m\u001b[0;34m)\u001b[0m\u001b[0;34m\u001b[0m\u001b[0;34m\u001b[0m\u001b[0m\n\u001b[0m\u001b[1;32m   3808\u001b[0m             \u001b[0;32mif\u001b[0m \u001b[0mis_integer\u001b[0m\u001b[0;34m(\u001b[0m\u001b[0mindexer\u001b[0m\u001b[0;34m)\u001b[0m\u001b[0;34m:\u001b[0m\u001b[0;34m\u001b[0m\u001b[0;34m\u001b[0m\u001b[0m\n\u001b[1;32m   3809\u001b[0m                 \u001b[0mindexer\u001b[0m \u001b[0;34m=\u001b[0m \u001b[0;34m[\u001b[0m\u001b[0mindexer\u001b[0m\u001b[0;34m]\u001b[0m\u001b[0;34m\u001b[0m\u001b[0;34m\u001b[0m\u001b[0m\n",
            "\u001b[0;32m/usr/local/lib/python3.10/dist-packages/pandas/core/indexes/base.py\u001b[0m in \u001b[0;36mget_loc\u001b[0;34m(self, key, method, tolerance)\u001b[0m\n\u001b[1;32m   3802\u001b[0m                 \u001b[0;32mreturn\u001b[0m \u001b[0mself\u001b[0m\u001b[0;34m.\u001b[0m\u001b[0m_engine\u001b[0m\u001b[0;34m.\u001b[0m\u001b[0mget_loc\u001b[0m\u001b[0;34m(\u001b[0m\u001b[0mcasted_key\u001b[0m\u001b[0;34m)\u001b[0m\u001b[0;34m\u001b[0m\u001b[0;34m\u001b[0m\u001b[0m\n\u001b[1;32m   3803\u001b[0m             \u001b[0;32mexcept\u001b[0m \u001b[0mKeyError\u001b[0m \u001b[0;32mas\u001b[0m \u001b[0merr\u001b[0m\u001b[0;34m:\u001b[0m\u001b[0;34m\u001b[0m\u001b[0;34m\u001b[0m\u001b[0m\n\u001b[0;32m-> 3804\u001b[0;31m                 \u001b[0;32mraise\u001b[0m \u001b[0mKeyError\u001b[0m\u001b[0;34m(\u001b[0m\u001b[0mkey\u001b[0m\u001b[0;34m)\u001b[0m \u001b[0;32mfrom\u001b[0m \u001b[0merr\u001b[0m\u001b[0;34m\u001b[0m\u001b[0;34m\u001b[0m\u001b[0m\n\u001b[0m\u001b[1;32m   3805\u001b[0m             \u001b[0;32mexcept\u001b[0m \u001b[0mTypeError\u001b[0m\u001b[0;34m:\u001b[0m\u001b[0;34m\u001b[0m\u001b[0;34m\u001b[0m\u001b[0m\n\u001b[1;32m   3806\u001b[0m                 \u001b[0;31m# If we have a listlike key, _check_indexing_error will raise\u001b[0m\u001b[0;34m\u001b[0m\u001b[0;34m\u001b[0m\u001b[0m\n",
            "\u001b[0;31mKeyError\u001b[0m: 0"
          ]
        }
      ]
    },
    {
      "cell_type": "code",
      "source": [
        "scaled_features = pd.DataFrame(scaler.fit_transform(x))\n",
        "scaled_features.head()"
      ],
      "metadata": {
        "id": "R55rQxglgrZn",
        "colab": {
          "base_uri": "https://localhost:8080/",
          "height": 342
        },
        "outputId": "d3bca787-a2d1-4611-f33a-7c3f2595d2d4"
      },
      "execution_count": null,
      "outputs": [
        {
          "output_type": "execute_result",
          "data": {
            "text/plain": [
              "         0         1         2         3         4         5         6   \\\n",
              "0  0.475474  0.588999 -1.153146  0.665306  1.394350 -0.483123 -1.153146   \n",
              "1  0.959203  0.895834 -0.648448  0.221508  0.644171 -0.120039 -0.648448   \n",
              "2 -1.869965 -1.597604 -0.718588  0.910543  0.904876  0.627131 -0.718588   \n",
              "3  0.146245  0.099176 -0.458156  0.085752  0.806830 -0.768693 -0.458156   \n",
              "4  0.543210  0.409481 -0.226624 -0.011608  0.125731 -0.080671 -0.226624   \n",
              "\n",
              "         7         8         9   ...   16   17        18            19   20  \\\n",
              "0  0.199071  0.187538  0.111710  ...  0.0  0.0 -0.264753  3.469447e-18  0.0   \n",
              "1 -0.598691  1.218362 -0.771700  ...  0.0  0.0  0.047510  6.938894e-18  0.0   \n",
              "2 -0.418029  0.223422 -0.432382  ...  0.0  0.0  0.045532  3.469447e-18  0.0   \n",
              "3  0.719054 -0.002354  0.669557  ...  0.0  0.0 -0.271820  6.938894e-18  0.0   \n",
              "4 -0.646666 -0.844204 -0.377473  ...  0.0  0.0 -0.055750  3.469447e-18  0.0   \n",
              "\n",
              "         21        22        23        24        25  \n",
              "0 -1.308309 -1.354837 -0.518413  2.154401 -0.200128  \n",
              "1  0.633956  0.609502 -0.054145 -0.356167 -0.210510  \n",
              "2 -1.308414 -1.361816 -0.658550 -1.113967 -0.200128  \n",
              "3  1.139034  0.352152 -0.295941  0.149153 -0.200128  \n",
              "4  0.556431  0.717999  0.042184 -0.460340 -0.234391  \n",
              "\n",
              "[5 rows x 26 columns]"
            ],
            "text/html": [
              "\n",
              "  <div id=\"df-ff096dec-38a0-4a8b-b26c-ca622ce11f92\" class=\"colab-df-container\">\n",
              "    <div>\n",
              "<style scoped>\n",
              "    .dataframe tbody tr th:only-of-type {\n",
              "        vertical-align: middle;\n",
              "    }\n",
              "\n",
              "    .dataframe tbody tr th {\n",
              "        vertical-align: top;\n",
              "    }\n",
              "\n",
              "    .dataframe thead th {\n",
              "        text-align: right;\n",
              "    }\n",
              "</style>\n",
              "<table border=\"1\" class=\"dataframe\">\n",
              "  <thead>\n",
              "    <tr style=\"text-align: right;\">\n",
              "      <th></th>\n",
              "      <th>0</th>\n",
              "      <th>1</th>\n",
              "      <th>2</th>\n",
              "      <th>3</th>\n",
              "      <th>4</th>\n",
              "      <th>5</th>\n",
              "      <th>6</th>\n",
              "      <th>7</th>\n",
              "      <th>8</th>\n",
              "      <th>9</th>\n",
              "      <th>...</th>\n",
              "      <th>16</th>\n",
              "      <th>17</th>\n",
              "      <th>18</th>\n",
              "      <th>19</th>\n",
              "      <th>20</th>\n",
              "      <th>21</th>\n",
              "      <th>22</th>\n",
              "      <th>23</th>\n",
              "      <th>24</th>\n",
              "      <th>25</th>\n",
              "    </tr>\n",
              "  </thead>\n",
              "  <tbody>\n",
              "    <tr>\n",
              "      <th>0</th>\n",
              "      <td>0.475474</td>\n",
              "      <td>0.588999</td>\n",
              "      <td>-1.153146</td>\n",
              "      <td>0.665306</td>\n",
              "      <td>1.394350</td>\n",
              "      <td>-0.483123</td>\n",
              "      <td>-1.153146</td>\n",
              "      <td>0.199071</td>\n",
              "      <td>0.187538</td>\n",
              "      <td>0.111710</td>\n",
              "      <td>...</td>\n",
              "      <td>0.0</td>\n",
              "      <td>0.0</td>\n",
              "      <td>-0.264753</td>\n",
              "      <td>3.469447e-18</td>\n",
              "      <td>0.0</td>\n",
              "      <td>-1.308309</td>\n",
              "      <td>-1.354837</td>\n",
              "      <td>-0.518413</td>\n",
              "      <td>2.154401</td>\n",
              "      <td>-0.200128</td>\n",
              "    </tr>\n",
              "    <tr>\n",
              "      <th>1</th>\n",
              "      <td>0.959203</td>\n",
              "      <td>0.895834</td>\n",
              "      <td>-0.648448</td>\n",
              "      <td>0.221508</td>\n",
              "      <td>0.644171</td>\n",
              "      <td>-0.120039</td>\n",
              "      <td>-0.648448</td>\n",
              "      <td>-0.598691</td>\n",
              "      <td>1.218362</td>\n",
              "      <td>-0.771700</td>\n",
              "      <td>...</td>\n",
              "      <td>0.0</td>\n",
              "      <td>0.0</td>\n",
              "      <td>0.047510</td>\n",
              "      <td>6.938894e-18</td>\n",
              "      <td>0.0</td>\n",
              "      <td>0.633956</td>\n",
              "      <td>0.609502</td>\n",
              "      <td>-0.054145</td>\n",
              "      <td>-0.356167</td>\n",
              "      <td>-0.210510</td>\n",
              "    </tr>\n",
              "    <tr>\n",
              "      <th>2</th>\n",
              "      <td>-1.869965</td>\n",
              "      <td>-1.597604</td>\n",
              "      <td>-0.718588</td>\n",
              "      <td>0.910543</td>\n",
              "      <td>0.904876</td>\n",
              "      <td>0.627131</td>\n",
              "      <td>-0.718588</td>\n",
              "      <td>-0.418029</td>\n",
              "      <td>0.223422</td>\n",
              "      <td>-0.432382</td>\n",
              "      <td>...</td>\n",
              "      <td>0.0</td>\n",
              "      <td>0.0</td>\n",
              "      <td>0.045532</td>\n",
              "      <td>3.469447e-18</td>\n",
              "      <td>0.0</td>\n",
              "      <td>-1.308414</td>\n",
              "      <td>-1.361816</td>\n",
              "      <td>-0.658550</td>\n",
              "      <td>-1.113967</td>\n",
              "      <td>-0.200128</td>\n",
              "    </tr>\n",
              "    <tr>\n",
              "      <th>3</th>\n",
              "      <td>0.146245</td>\n",
              "      <td>0.099176</td>\n",
              "      <td>-0.458156</td>\n",
              "      <td>0.085752</td>\n",
              "      <td>0.806830</td>\n",
              "      <td>-0.768693</td>\n",
              "      <td>-0.458156</td>\n",
              "      <td>0.719054</td>\n",
              "      <td>-0.002354</td>\n",
              "      <td>0.669557</td>\n",
              "      <td>...</td>\n",
              "      <td>0.0</td>\n",
              "      <td>0.0</td>\n",
              "      <td>-0.271820</td>\n",
              "      <td>6.938894e-18</td>\n",
              "      <td>0.0</td>\n",
              "      <td>1.139034</td>\n",
              "      <td>0.352152</td>\n",
              "      <td>-0.295941</td>\n",
              "      <td>0.149153</td>\n",
              "      <td>-0.200128</td>\n",
              "    </tr>\n",
              "    <tr>\n",
              "      <th>4</th>\n",
              "      <td>0.543210</td>\n",
              "      <td>0.409481</td>\n",
              "      <td>-0.226624</td>\n",
              "      <td>-0.011608</td>\n",
              "      <td>0.125731</td>\n",
              "      <td>-0.080671</td>\n",
              "      <td>-0.226624</td>\n",
              "      <td>-0.646666</td>\n",
              "      <td>-0.844204</td>\n",
              "      <td>-0.377473</td>\n",
              "      <td>...</td>\n",
              "      <td>0.0</td>\n",
              "      <td>0.0</td>\n",
              "      <td>-0.055750</td>\n",
              "      <td>3.469447e-18</td>\n",
              "      <td>0.0</td>\n",
              "      <td>0.556431</td>\n",
              "      <td>0.717999</td>\n",
              "      <td>0.042184</td>\n",
              "      <td>-0.460340</td>\n",
              "      <td>-0.234391</td>\n",
              "    </tr>\n",
              "  </tbody>\n",
              "</table>\n",
              "<p>5 rows × 26 columns</p>\n",
              "</div>\n",
              "    <div class=\"colab-df-buttons\">\n",
              "\n",
              "  <div class=\"colab-df-container\">\n",
              "    <button class=\"colab-df-convert\" onclick=\"convertToInteractive('df-ff096dec-38a0-4a8b-b26c-ca622ce11f92')\"\n",
              "            title=\"Convert this dataframe to an interactive table.\"\n",
              "            style=\"display:none;\">\n",
              "\n",
              "  <svg xmlns=\"http://www.w3.org/2000/svg\" height=\"24px\" viewBox=\"0 -960 960 960\">\n",
              "    <path d=\"M120-120v-720h720v720H120Zm60-500h600v-160H180v160Zm220 220h160v-160H400v160Zm0 220h160v-160H400v160ZM180-400h160v-160H180v160Zm440 0h160v-160H620v160ZM180-180h160v-160H180v160Zm440 0h160v-160H620v160Z\"/>\n",
              "  </svg>\n",
              "    </button>\n",
              "\n",
              "  <style>\n",
              "    .colab-df-container {\n",
              "      display:flex;\n",
              "      gap: 12px;\n",
              "    }\n",
              "\n",
              "    .colab-df-convert {\n",
              "      background-color: #E8F0FE;\n",
              "      border: none;\n",
              "      border-radius: 50%;\n",
              "      cursor: pointer;\n",
              "      display: none;\n",
              "      fill: #1967D2;\n",
              "      height: 32px;\n",
              "      padding: 0 0 0 0;\n",
              "      width: 32px;\n",
              "    }\n",
              "\n",
              "    .colab-df-convert:hover {\n",
              "      background-color: #E2EBFA;\n",
              "      box-shadow: 0px 1px 2px rgba(60, 64, 67, 0.3), 0px 1px 3px 1px rgba(60, 64, 67, 0.15);\n",
              "      fill: #174EA6;\n",
              "    }\n",
              "\n",
              "    .colab-df-buttons div {\n",
              "      margin-bottom: 4px;\n",
              "    }\n",
              "\n",
              "    [theme=dark] .colab-df-convert {\n",
              "      background-color: #3B4455;\n",
              "      fill: #D2E3FC;\n",
              "    }\n",
              "\n",
              "    [theme=dark] .colab-df-convert:hover {\n",
              "      background-color: #434B5C;\n",
              "      box-shadow: 0px 1px 3px 1px rgba(0, 0, 0, 0.15);\n",
              "      filter: drop-shadow(0px 1px 2px rgba(0, 0, 0, 0.3));\n",
              "      fill: #FFFFFF;\n",
              "    }\n",
              "  </style>\n",
              "\n",
              "    <script>\n",
              "      const buttonEl =\n",
              "        document.querySelector('#df-ff096dec-38a0-4a8b-b26c-ca622ce11f92 button.colab-df-convert');\n",
              "      buttonEl.style.display =\n",
              "        google.colab.kernel.accessAllowed ? 'block' : 'none';\n",
              "\n",
              "      async function convertToInteractive(key) {\n",
              "        const element = document.querySelector('#df-ff096dec-38a0-4a8b-b26c-ca622ce11f92');\n",
              "        const dataTable =\n",
              "          await google.colab.kernel.invokeFunction('convertToInteractive',\n",
              "                                                    [key], {});\n",
              "        if (!dataTable) return;\n",
              "\n",
              "        const docLinkHtml = 'Like what you see? Visit the ' +\n",
              "          '<a target=\"_blank\" href=https://colab.research.google.com/notebooks/data_table.ipynb>data table notebook</a>'\n",
              "          + ' to learn more about interactive tables.';\n",
              "        element.innerHTML = '';\n",
              "        dataTable['output_type'] = 'display_data';\n",
              "        await google.colab.output.renderOutput(dataTable, element);\n",
              "        const docLink = document.createElement('div');\n",
              "        docLink.innerHTML = docLinkHtml;\n",
              "        element.appendChild(docLink);\n",
              "      }\n",
              "    </script>\n",
              "  </div>\n",
              "\n",
              "\n",
              "<div id=\"df-cab0a3a5-2ce1-4a11-ae79-4f75bb6048c7\">\n",
              "  <button class=\"colab-df-quickchart\" onclick=\"quickchart('df-cab0a3a5-2ce1-4a11-ae79-4f75bb6048c7')\"\n",
              "            title=\"Suggest charts\"\n",
              "            style=\"display:none;\">\n",
              "\n",
              "<svg xmlns=\"http://www.w3.org/2000/svg\" height=\"24px\"viewBox=\"0 0 24 24\"\n",
              "     width=\"24px\">\n",
              "    <g>\n",
              "        <path d=\"M19 3H5c-1.1 0-2 .9-2 2v14c0 1.1.9 2 2 2h14c1.1 0 2-.9 2-2V5c0-1.1-.9-2-2-2zM9 17H7v-7h2v7zm4 0h-2V7h2v10zm4 0h-2v-4h2v4z\"/>\n",
              "    </g>\n",
              "</svg>\n",
              "  </button>\n",
              "\n",
              "<style>\n",
              "  .colab-df-quickchart {\n",
              "      --bg-color: #E8F0FE;\n",
              "      --fill-color: #1967D2;\n",
              "      --hover-bg-color: #E2EBFA;\n",
              "      --hover-fill-color: #174EA6;\n",
              "      --disabled-fill-color: #AAA;\n",
              "      --disabled-bg-color: #DDD;\n",
              "  }\n",
              "\n",
              "  [theme=dark] .colab-df-quickchart {\n",
              "      --bg-color: #3B4455;\n",
              "      --fill-color: #D2E3FC;\n",
              "      --hover-bg-color: #434B5C;\n",
              "      --hover-fill-color: #FFFFFF;\n",
              "      --disabled-bg-color: #3B4455;\n",
              "      --disabled-fill-color: #666;\n",
              "  }\n",
              "\n",
              "  .colab-df-quickchart {\n",
              "    background-color: var(--bg-color);\n",
              "    border: none;\n",
              "    border-radius: 50%;\n",
              "    cursor: pointer;\n",
              "    display: none;\n",
              "    fill: var(--fill-color);\n",
              "    height: 32px;\n",
              "    padding: 0;\n",
              "    width: 32px;\n",
              "  }\n",
              "\n",
              "  .colab-df-quickchart:hover {\n",
              "    background-color: var(--hover-bg-color);\n",
              "    box-shadow: 0 1px 2px rgba(60, 64, 67, 0.3), 0 1px 3px 1px rgba(60, 64, 67, 0.15);\n",
              "    fill: var(--button-hover-fill-color);\n",
              "  }\n",
              "\n",
              "  .colab-df-quickchart-complete:disabled,\n",
              "  .colab-df-quickchart-complete:disabled:hover {\n",
              "    background-color: var(--disabled-bg-color);\n",
              "    fill: var(--disabled-fill-color);\n",
              "    box-shadow: none;\n",
              "  }\n",
              "\n",
              "  .colab-df-spinner {\n",
              "    border: 2px solid var(--fill-color);\n",
              "    border-color: transparent;\n",
              "    border-bottom-color: var(--fill-color);\n",
              "    animation:\n",
              "      spin 1s steps(1) infinite;\n",
              "  }\n",
              "\n",
              "  @keyframes spin {\n",
              "    0% {\n",
              "      border-color: transparent;\n",
              "      border-bottom-color: var(--fill-color);\n",
              "      border-left-color: var(--fill-color);\n",
              "    }\n",
              "    20% {\n",
              "      border-color: transparent;\n",
              "      border-left-color: var(--fill-color);\n",
              "      border-top-color: var(--fill-color);\n",
              "    }\n",
              "    30% {\n",
              "      border-color: transparent;\n",
              "      border-left-color: var(--fill-color);\n",
              "      border-top-color: var(--fill-color);\n",
              "      border-right-color: var(--fill-color);\n",
              "    }\n",
              "    40% {\n",
              "      border-color: transparent;\n",
              "      border-right-color: var(--fill-color);\n",
              "      border-top-color: var(--fill-color);\n",
              "    }\n",
              "    60% {\n",
              "      border-color: transparent;\n",
              "      border-right-color: var(--fill-color);\n",
              "    }\n",
              "    80% {\n",
              "      border-color: transparent;\n",
              "      border-right-color: var(--fill-color);\n",
              "      border-bottom-color: var(--fill-color);\n",
              "    }\n",
              "    90% {\n",
              "      border-color: transparent;\n",
              "      border-bottom-color: var(--fill-color);\n",
              "    }\n",
              "  }\n",
              "</style>\n",
              "\n",
              "  <script>\n",
              "    async function quickchart(key) {\n",
              "      const quickchartButtonEl =\n",
              "        document.querySelector('#' + key + ' button');\n",
              "      quickchartButtonEl.disabled = true;  // To prevent multiple clicks.\n",
              "      quickchartButtonEl.classList.add('colab-df-spinner');\n",
              "      try {\n",
              "        const charts = await google.colab.kernel.invokeFunction(\n",
              "            'suggestCharts', [key], {});\n",
              "      } catch (error) {\n",
              "        console.error('Error during call to suggestCharts:', error);\n",
              "      }\n",
              "      quickchartButtonEl.classList.remove('colab-df-spinner');\n",
              "      quickchartButtonEl.classList.add('colab-df-quickchart-complete');\n",
              "    }\n",
              "    (() => {\n",
              "      let quickchartButtonEl =\n",
              "        document.querySelector('#df-cab0a3a5-2ce1-4a11-ae79-4f75bb6048c7 button');\n",
              "      quickchartButtonEl.style.display =\n",
              "        google.colab.kernel.accessAllowed ? 'block' : 'none';\n",
              "    })();\n",
              "  </script>\n",
              "</div>\n",
              "    </div>\n",
              "  </div>\n"
            ]
          },
          "metadata": {},
          "execution_count": 55
        }
      ]
    },
    {
      "cell_type": "code",
      "source": [
        "sns.heatmap(scaled_features.corr())\n",
        "#lighter shades represent more correlation and vice versa"
      ],
      "metadata": {
        "id": "Rj08DN80hBxR",
        "colab": {
          "base_uri": "https://localhost:8080/",
          "height": 456
        },
        "outputId": "194381ed-f042-4efa-868c-febfe746e9f9"
      },
      "execution_count": null,
      "outputs": [
        {
          "output_type": "execute_result",
          "data": {
            "text/plain": [
              "<Axes: >"
            ]
          },
          "metadata": {},
          "execution_count": 122
        },
        {
          "output_type": "display_data",
          "data": {
            "text/plain": [
              "<Figure size 640x480 with 2 Axes>"
            ],
            "image/png": "[encoded data removed]"
          },
          "metadata": {}
        }
      ]
    },
    {
      "cell_type": "markdown",
      "source": [
        "# Applying Principal Component Analysis (PCA)"
      ],
      "metadata": {
        "id": "zwkNgxT9PMMh"
      }
    },
    {
      "cell_type": "code",
      "source": [
        "pca = PCA(n_components = 15)  #no. of features needed at end is 20\n",
        "pca.fit(scaled_features)\n",
        "features_pca = pca.transform(scaled_features)\n",
        "features_pca = pd.DataFrame(features_pca)\n",
        "features_pca.head()"
      ],
      "metadata": {
        "id": "IojQOw5Uhml-",
        "colab": {
          "base_uri": "https://localhost:8080/",
          "height": 226
        },
        "outputId": "fbefab44-a4fe-4a73-efa2-760977e823ca"
      },
      "execution_count": null,
      "outputs": [
        {
          "output_type": "execute_result",
          "data": {
            "text/plain": [
              "         0         1         2         3         4         5         6   \\\n",
              "0 -0.392578 -1.102763 -0.197750 -2.230994 -1.493149  2.275782 -0.198102   \n",
              "1  1.340343 -1.218767 -2.063814  0.161442 -0.324920 -0.221101  0.520990   \n",
              "2  0.706387 -1.852666  1.705938 -1.873525  0.201271 -0.831080 -1.110272   \n",
              "3 -1.253864 -0.941364 -0.116265  0.943850 -0.467688  1.076307  0.021221   \n",
              "4  0.510577 -0.402118 -1.050781  0.819157 -0.368043 -0.307371 -0.177047   \n",
              "\n",
              "         7         8         9         10        11        12        13  \\\n",
              "0  0.133378  0.690119  0.698409 -0.674538 -0.613146  0.018339  0.182716   \n",
              "1 -0.431096 -0.242181  0.142890 -0.087726  0.056199 -0.063889 -0.067466   \n",
              "2 -0.788907  0.479583 -1.288983  0.399860  0.271881 -0.043342  0.299331   \n",
              "3 -0.331973 -0.463380  0.332187 -0.423181  0.340513  0.135974  0.222914   \n",
              "4  0.864024 -0.087714 -0.554181  0.452714 -0.014179 -0.190487 -0.066197   \n",
              "\n",
              "         14  \n",
              "0  0.025784  \n",
              "1  0.123875  \n",
              "2  0.130670  \n",
              "3  0.060624  \n",
              "4  0.154393  "
            ],
            "text/html": [
              "\n",
              "  <div id=\"df-1d608cb6-94c0-46cd-a034-ae7c5b87fa35\" class=\"colab-df-container\">\n",
              "    <div>\n",
              "<style scoped>\n",
              "    .dataframe tbody tr th:only-of-type {\n",
              "        vertical-align: middle;\n",
              "    }\n",
              "\n",
              "    .dataframe tbody tr th {\n",
              "        vertical-align: top;\n",
              "    }\n",
              "\n",
              "    .dataframe thead th {\n",
              "        text-align: right;\n",
              "    }\n",
              "</style>\n",
              "<table border=\"1\" class=\"dataframe\">\n",
              "  <thead>\n",
              "    <tr style=\"text-align: right;\">\n",
              "      <th></th>\n",
              "      <th>0</th>\n",
              "      <th>1</th>\n",
              "      <th>2</th>\n",
              "      <th>3</th>\n",
              "      <th>4</th>\n",
              "      <th>5</th>\n",
              "      <th>6</th>\n",
              "      <th>7</th>\n",
              "      <th>8</th>\n",
              "      <th>9</th>\n",
              "      <th>10</th>\n",
              "      <th>11</th>\n",
              "      <th>12</th>\n",
              "      <th>13</th>\n",
              "      <th>14</th>\n",
              "    </tr>\n",
              "  </thead>\n",
              "  <tbody>\n",
              "    <tr>\n",
              "      <th>0</th>\n",
              "      <td>-0.392578</td>\n",
              "      <td>-1.102763</td>\n",
              "      <td>-0.197750</td>\n",
              "      <td>-2.230994</td>\n",
              "      <td>-1.493149</td>\n",
              "      <td>2.275782</td>\n",
              "      <td>-0.198102</td>\n",
              "      <td>0.133378</td>\n",
              "      <td>0.690119</td>\n",
              "      <td>0.698409</td>\n",
              "      <td>-0.674538</td>\n",
              "      <td>-0.613146</td>\n",
              "      <td>0.018339</td>\n",
              "      <td>0.182716</td>\n",
              "      <td>0.025784</td>\n",
              "    </tr>\n",
              "    <tr>\n",
              "      <th>1</th>\n",
              "      <td>1.340343</td>\n",
              "      <td>-1.218767</td>\n",
              "      <td>-2.063814</td>\n",
              "      <td>0.161442</td>\n",
              "      <td>-0.324920</td>\n",
              "      <td>-0.221101</td>\n",
              "      <td>0.520990</td>\n",
              "      <td>-0.431096</td>\n",
              "      <td>-0.242181</td>\n",
              "      <td>0.142890</td>\n",
              "      <td>-0.087726</td>\n",
              "      <td>0.056199</td>\n",
              "      <td>-0.063889</td>\n",
              "      <td>-0.067466</td>\n",
              "      <td>0.123875</td>\n",
              "    </tr>\n",
              "    <tr>\n",
              "      <th>2</th>\n",
              "      <td>0.706387</td>\n",
              "      <td>-1.852666</td>\n",
              "      <td>1.705938</td>\n",
              "      <td>-1.873525</td>\n",
              "      <td>0.201271</td>\n",
              "      <td>-0.831080</td>\n",
              "      <td>-1.110272</td>\n",
              "      <td>-0.788907</td>\n",
              "      <td>0.479583</td>\n",
              "      <td>-1.288983</td>\n",
              "      <td>0.399860</td>\n",
              "      <td>0.271881</td>\n",
              "      <td>-0.043342</td>\n",
              "      <td>0.299331</td>\n",
              "      <td>0.130670</td>\n",
              "    </tr>\n",
              "    <tr>\n",
              "      <th>3</th>\n",
              "      <td>-1.253864</td>\n",
              "      <td>-0.941364</td>\n",
              "      <td>-0.116265</td>\n",
              "      <td>0.943850</td>\n",
              "      <td>-0.467688</td>\n",
              "      <td>1.076307</td>\n",
              "      <td>0.021221</td>\n",
              "      <td>-0.331973</td>\n",
              "      <td>-0.463380</td>\n",
              "      <td>0.332187</td>\n",
              "      <td>-0.423181</td>\n",
              "      <td>0.340513</td>\n",
              "      <td>0.135974</td>\n",
              "      <td>0.222914</td>\n",
              "      <td>0.060624</td>\n",
              "    </tr>\n",
              "    <tr>\n",
              "      <th>4</th>\n",
              "      <td>0.510577</td>\n",
              "      <td>-0.402118</td>\n",
              "      <td>-1.050781</td>\n",
              "      <td>0.819157</td>\n",
              "      <td>-0.368043</td>\n",
              "      <td>-0.307371</td>\n",
              "      <td>-0.177047</td>\n",
              "      <td>0.864024</td>\n",
              "      <td>-0.087714</td>\n",
              "      <td>-0.554181</td>\n",
              "      <td>0.452714</td>\n",
              "      <td>-0.014179</td>\n",
              "      <td>-0.190487</td>\n",
              "      <td>-0.066197</td>\n",
              "      <td>0.154393</td>\n",
              "    </tr>\n",
              "  </tbody>\n",
              "</table>\n",
              "</div>\n",
              "    <div class=\"colab-df-buttons\">\n",
              "\n",
              "  <div class=\"colab-df-container\">\n",
              "    <button class=\"colab-df-convert\" onclick=\"convertToInteractive('df-1d608cb6-94c0-46cd-a034-ae7c5b87fa35')\"\n",
              "            title=\"Convert this dataframe to an interactive table.\"\n",
              "            style=\"display:none;\">\n",
              "\n",
              "  <svg xmlns=\"http://www.w3.org/2000/svg\" height=\"24px\" viewBox=\"0 -960 960 960\">\n",
              "    <path d=\"M120-120v-720h720v720H120Zm60-500h600v-160H180v160Zm220 220h160v-160H400v160Zm0 220h160v-160H400v160ZM180-400h160v-160H180v160Zm440 0h160v-160H620v160ZM180-180h160v-160H180v160Zm440 0h160v-160H620v160Z\"/>\n",
              "  </svg>\n",
              "    </button>\n",
              "\n",
              "  <style>\n",
              "    .colab-df-container {\n",
              "      display:flex;\n",
              "      gap: 12px;\n",
              "    }\n",
              "\n",
              "    .colab-df-convert {\n",
              "      background-color: #E8F0FE;\n",
              "      border: none;\n",
              "      border-radius: 50%;\n",
              "      cursor: pointer;\n",
              "      display: none;\n",
              "      fill: #1967D2;\n",
              "      height: 32px;\n",
              "      padding: 0 0 0 0;\n",
              "      width: 32px;\n",
              "    }\n",
              "\n",
              "    .colab-df-convert:hover {\n",
              "      background-color: #E2EBFA;\n",
              "      box-shadow: 0px 1px 2px rgba(60, 64, 67, 0.3), 0px 1px 3px 1px rgba(60, 64, 67, 0.15);\n",
              "      fill: #174EA6;\n",
              "    }\n",
              "\n",
              "    .colab-df-buttons div {\n",
              "      margin-bottom: 4px;\n",
              "    }\n",
              "\n",
              "    [theme=dark] .colab-df-convert {\n",
              "      background-color: #3B4455;\n",
              "      fill: #D2E3FC;\n",
              "    }\n",
              "\n",
              "    [theme=dark] .colab-df-convert:hover {\n",
              "      background-color: #434B5C;\n",
              "      box-shadow: 0px 1px 3px 1px rgba(0, 0, 0, 0.15);\n",
              "      filter: drop-shadow(0px 1px 2px rgba(0, 0, 0, 0.3));\n",
              "      fill: #FFFFFF;\n",
              "    }\n",
              "  </style>\n",
              "\n",
              "    <script>\n",
              "      const buttonEl =\n",
              "        document.querySelector('#df-1d608cb6-94c0-46cd-a034-ae7c5b87fa35 button.colab-df-convert');\n",
              "      buttonEl.style.display =\n",
              "        google.colab.kernel.accessAllowed ? 'block' : 'none';\n",
              "\n",
              "      async function convertToInteractive(key) {\n",
              "        const element = document.querySelector('#df-1d608cb6-94c0-46cd-a034-ae7c5b87fa35');\n",
              "        const dataTable =\n",
              "          await google.colab.kernel.invokeFunction('convertToInteractive',\n",
              "                                                    [key], {});\n",
              "        if (!dataTable) return;\n",
              "\n",
              "        const docLinkHtml = 'Like what you see? Visit the ' +\n",
              "          '<a target=\"_blank\" href=https://colab.research.google.com/notebooks/data_table.ipynb>data table notebook</a>'\n",
              "          + ' to learn more about interactive tables.';\n",
              "        element.innerHTML = '';\n",
              "        dataTable['output_type'] = 'display_data';\n",
              "        await google.colab.output.renderOutput(dataTable, element);\n",
              "        const docLink = document.createElement('div');\n",
              "        docLink.innerHTML = docLinkHtml;\n",
              "        element.appendChild(docLink);\n",
              "      }\n",
              "    </script>\n",
              "  </div>\n",
              "\n",
              "\n",
              "<div id=\"df-11da9e07-2152-44f7-966d-41a4db2f1498\">\n",
              "  <button class=\"colab-df-quickchart\" onclick=\"quickchart('df-11da9e07-2152-44f7-966d-41a4db2f1498')\"\n",
              "            title=\"Suggest charts\"\n",
              "            style=\"display:none;\">\n",
              "\n",
              "<svg xmlns=\"http://www.w3.org/2000/svg\" height=\"24px\"viewBox=\"0 0 24 24\"\n",
              "     width=\"24px\">\n",
              "    <g>\n",
              "        <path d=\"M19 3H5c-1.1 0-2 .9-2 2v14c0 1.1.9 2 2 2h14c1.1 0 2-.9 2-2V5c0-1.1-.9-2-2-2zM9 17H7v-7h2v7zm4 0h-2V7h2v10zm4 0h-2v-4h2v4z\"/>\n",
              "    </g>\n",
              "</svg>\n",
              "  </button>\n",
              "\n",
              "<style>\n",
              "  .colab-df-quickchart {\n",
              "      --bg-color: #E8F0FE;\n",
              "      --fill-color: #1967D2;\n",
              "      --hover-bg-color: #E2EBFA;\n",
              "      --hover-fill-color: #174EA6;\n",
              "      --disabled-fill-color: #AAA;\n",
              "      --disabled-bg-color: #DDD;\n",
              "  }\n",
              "\n",
              "  [theme=dark] .colab-df-quickchart {\n",
              "      --bg-color: #3B4455;\n",
              "      --fill-color: #D2E3FC;\n",
              "      --hover-bg-color: #434B5C;\n",
              "      --hover-fill-color: #FFFFFF;\n",
              "      --disabled-bg-color: #3B4455;\n",
              "      --disabled-fill-color: #666;\n",
              "  }\n",
              "\n",
              "  .colab-df-quickchart {\n",
              "    background-color: var(--bg-color);\n",
              "    border: none;\n",
              "    border-radius: 50%;\n",
              "    cursor: pointer;\n",
              "    display: none;\n",
              "    fill: var(--fill-color);\n",
              "    height: 32px;\n",
              "    padding: 0;\n",
              "    width: 32px;\n",
              "  }\n",
              "\n",
              "  .colab-df-quickchart:hover {\n",
              "    background-color: var(--hover-bg-color);\n",
              "    box-shadow: 0 1px 2px rgba(60, 64, 67, 0.3), 0 1px 3px 1px rgba(60, 64, 67, 0.15);\n",
              "    fill: var(--button-hover-fill-color);\n",
              "  }\n",
              "\n",
              "  .colab-df-quickchart-complete:disabled,\n",
              "  .colab-df-quickchart-complete:disabled:hover {\n",
              "    background-color: var(--disabled-bg-color);\n",
              "    fill: var(--disabled-fill-color);\n",
              "    box-shadow: none;\n",
              "  }\n",
              "\n",
              "  .colab-df-spinner {\n",
              "    border: 2px solid var(--fill-color);\n",
              "    border-color: transparent;\n",
              "    border-bottom-color: var(--fill-color);\n",
              "    animation:\n",
              "      spin 1s steps(1) infinite;\n",
              "  }\n",
              "\n",
              "  @keyframes spin {\n",
              "    0% {\n",
              "      border-color: transparent;\n",
              "      border-bottom-color: var(--fill-color);\n",
              "      border-left-color: var(--fill-color);\n",
              "    }\n",
              "    20% {\n",
              "      border-color: transparent;\n",
              "      border-left-color: var(--fill-color);\n",
              "      border-top-color: var(--fill-color);\n",
              "    }\n",
              "    30% {\n",
              "      border-color: transparent;\n",
              "      border-left-color: var(--fill-color);\n",
              "      border-top-color: var(--fill-color);\n",
              "      border-right-color: var(--fill-color);\n",
              "    }\n",
              "    40% {\n",
              "      border-color: transparent;\n",
              "      border-right-color: var(--fill-color);\n",
              "      border-top-color: var(--fill-color);\n",
              "    }\n",
              "    60% {\n",
              "      border-color: transparent;\n",
              "      border-right-color: var(--fill-color);\n",
              "    }\n",
              "    80% {\n",
              "      border-color: transparent;\n",
              "      border-right-color: var(--fill-color);\n",
              "      border-bottom-color: var(--fill-color);\n",
              "    }\n",
              "    90% {\n",
              "      border-color: transparent;\n",
              "      border-bottom-color: var(--fill-color);\n",
              "    }\n",
              "  }\n",
              "</style>\n",
              "\n",
              "  <script>\n",
              "    async function quickchart(key) {\n",
              "      const quickchartButtonEl =\n",
              "        document.querySelector('#' + key + ' button');\n",
              "      quickchartButtonEl.disabled = true;  // To prevent multiple clicks.\n",
              "      quickchartButtonEl.classList.add('colab-df-spinner');\n",
              "      try {\n",
              "        const charts = await google.colab.kernel.invokeFunction(\n",
              "            'suggestCharts', [key], {});\n",
              "      } catch (error) {\n",
              "        console.error('Error during call to suggestCharts:', error);\n",
              "      }\n",
              "      quickchartButtonEl.classList.remove('colab-df-spinner');\n",
              "      quickchartButtonEl.classList.add('colab-df-quickchart-complete');\n",
              "    }\n",
              "    (() => {\n",
              "      let quickchartButtonEl =\n",
              "        document.querySelector('#df-11da9e07-2152-44f7-966d-41a4db2f1498 button');\n",
              "      quickchartButtonEl.style.display =\n",
              "        google.colab.kernel.accessAllowed ? 'block' : 'none';\n",
              "    })();\n",
              "  </script>\n",
              "</div>\n",
              "    </div>\n",
              "  </div>\n"
            ]
          },
          "metadata": {},
          "execution_count": 123
        }
      ]
    },
    {
      "cell_type": "code",
      "source": [
        "sns.heatmap(features_pca.corr())"
      ],
      "metadata": {
        "id": "BCpQIzLoic3j",
        "colab": {
          "base_uri": "https://localhost:8080/",
          "height": 452
        },
        "outputId": "8d2a1e5b-0202-47f5-e52b-14d594b22760"
      },
      "execution_count": null,
      "outputs": [
        {
          "output_type": "execute_result",
          "data": {
            "text/plain": [
              "<Axes: >"
            ]
          },
          "metadata": {},
          "execution_count": 58
        },
        {
          "output_type": "display_data",
          "data": {
            "text/plain": [
              "<Figure size 640x480 with 2 Axes>"
            ],
            "image/png": "[encoded data removed]"
          },
          "metadata": {}
        }
      ]
    },
    {
      "cell_type": "code",
      "source": [
        "x_train_pca , x_test_pca , y_train_pca , y_test_pca = tts(features_pca , y , test_size=0.2 , shuffle=True , random_state=42 , stratify=y)"
      ],
      "metadata": {
        "id": "vW3QzOLnilUD"
      },
      "execution_count": null,
      "outputs": []
    },
    {
      "cell_type": "code",
      "source": [
        "svm_model.fit(x_train_pca , y_train_pca)\n",
        "y_prediction_pca = svm_model.predict(x_test_pca)\n",
        "\n",
        "accuracy_pca = accuracy_score(y_prediction_pca , y_test_pca)\n",
        "print(f'accuracy of model is: {accuracy_pca*100}%')"
      ],
      "metadata": {
        "id": "xHDDTF10jApg",
        "colab": {
          "base_uri": "https://localhost:8080/"
        },
        "outputId": "7cadb443-1fb9-4f86-89d5-62635f0d4182"
      },
      "execution_count": null,
      "outputs": [
        {
          "output_type": "stream",
          "name": "stdout",
          "text": [
            "accuracy of model is: 72.0%\n"
          ]
        }
      ]
    },
    {
      "cell_type": "markdown",
      "source": [
        "# Finding Precision, Recall, F1_score and Support"
      ],
      "metadata": {
        "id": "Z0YcxOBDfdQI"
      }
    },
    {
      "cell_type": "code",
      "source": [
        "from sklearn.metrics import confusion_matrix\n",
        "conf_matrix = confusion_matrix(y_prediction_pca , y_test_pca)\n",
        "plt.figure(figsize=(8, 6))\n",
        "sns.heatmap(conf_matrix, annot=True, fmt='d', cmap='Blues', xticklabels=['Class 0', 'Class 1'], yticklabels=['Class 0', 'Class 1'])\n",
        "plt.xlabel('Predicted')\n",
        "plt.ylabel('Actual')\n",
        "plt.title('Confusion Matrix')\n",
        "plt.show()"
      ],
      "metadata": {
        "id": "SK1pm9NafnO1",
        "colab": {
          "base_uri": "https://localhost:8080/",
          "height": 564
        },
        "outputId": "dcd4b771-8660-4bba-d317-4e0a9ba9372f"
      },
      "execution_count": null,
      "outputs": [
        {
          "output_type": "display_data",
          "data": {
            "text/plain": [
              "<Figure size 800x600 with 2 Axes>"
            ],
            "image/png": "[encoded data removed]"
          },
          "metadata": {}
        }
      ]
    },
    {
      "cell_type": "code",
      "source": [
        "def calculate_metrics(conf_matrix):\n",
        "    TP = conf_matrix[0][0]  # True Positives\n",
        "    TN = conf_matrix[1][1]\n",
        "    FP = conf_matrix[0][1]\n",
        "    FN = conf_matrix[1][0]\n",
        "\n",
        "    accuracy = (TP + TN) / (TP + TN + FP + FN)\n",
        "    precision = TP / (TP + FP)\n",
        "    recall = TP / (TP + FN)\n",
        "    f1_score = 2 * (precision * recall) / (precision + recall)\n",
        "\n",
        "    return accuracy, precision, recall, f1_score"
      ],
      "metadata": {
        "id": "x7Pub-_5hMoU"
      },
      "execution_count": null,
      "outputs": []
    },
    {
      "cell_type": "code",
      "source": [
        "accuracy, precision, recall, f1_score = calculate_metrics(conf_matrix)\n",
        "\n",
        "print(\"Accuracy:\", accuracy)\n",
        "print(\"Precision:\", precision)\n",
        "print(\"Recall:\", recall)\n",
        "print(\"F1 Score:\", f1_score)"
      ],
      "metadata": {
        "id": "VTg-zh64iZcO",
        "colab": {
          "base_uri": "https://localhost:8080/"
        },
        "outputId": "80f4d91d-05c8-4f7c-e602-a4fa129a799a"
      },
      "execution_count": null,
      "outputs": [
        {
          "output_type": "stream",
          "name": "stdout",
          "text": [
            "Accuracy: 0.72\n",
            "Precision: 0.7447916666666666\n",
            "Recall: 0.9533333333333334\n",
            "F1 Score: 0.8362573099415204\n"
          ]
        }
      ]
    },
    {
      "cell_type": "markdown",
      "source": [
        "# Saving file"
      ],
      "metadata": {
        "id": "zhhGmpkcslbJ"
      }
    },
    {
      "cell_type": "code",
      "source": [
        "path_for_saving = '/content/drive/MyDrive/classifier_data/'"
      ],
      "metadata": {
        "id": "O57wxcSQW3bg"
      },
      "execution_count": null,
      "outputs": []
    },
    {
      "cell_type": "code",
      "source": [
        "pickle_out = open(path_for_saving + \"pca.pickle\" , \"wb\")\n",
        "pickle.dump(pca , pickle_out)\n",
        "pickle_out.close()"
      ],
      "metadata": {
        "id": "IXnoYpLSr6hS"
      },
      "execution_count": null,
      "outputs": []
    },
    {
      "cell_type": "code",
      "source": [
        "pickle_out = open(path_for_saving + \"scaler.pickle\" , \"wb\")\n",
        "pickle.dump(scaler , pickle_out)\n",
        "pickle_out.close()"
      ],
      "metadata": {
        "id": "Gwa3HSMmsLiS"
      },
      "execution_count": null,
      "outputs": []
    },
    {
      "cell_type": "code",
      "source": [
        "pickle_out = open(path_for_saving + \"svm.pickle\" , \"wb\")\n",
        "pickle.dump(svm_model , pickle_out)\n",
        "pickle_out.close()"
      ],
      "metadata": {
        "id": "bmZIpqe2ssum"
      },
      "execution_count": null,
      "outputs": []
    },
    {
      "cell_type": "code",
      "source": [
        "pickle_in = open(path_for_saving + \"svm.pickle\" , \"rb\")\n",
        "svm = pickle.load(pickle_in)"
      ],
      "metadata": {
        "id": "SvrT07z3M_UL"
      },
      "execution_count": null,
      "outputs": []
    },
    {
      "cell_type": "code",
      "source": [
        "pickle_in = open(path_for_saving + \"pca.pickle\" , \"rb\")\n",
        "pca = pickle.load(pickle_in)"
      ],
      "metadata": {
        "id": "OrKMGhn4NX6Z"
      },
      "execution_count": null,
      "outputs": []
    },
    {
      "cell_type": "code",
      "source": [
        "pickle_in = open(path_for_saving + \"scaler.pickle\" , \"rb\")\n",
        "scaler = pickle.load(pickle_in)"
      ],
      "metadata": {
        "id": "p-siGWO9Nc2C"
      },
      "execution_count": null,
      "outputs": []
    },
    {
      "cell_type": "code",
      "source": [
        "new_pred = svm.predict(x_test_pca)\n",
        "new_pred"
      ],
      "metadata": {
        "id": "e5pQwGj6tSpc",
        "colab": {
          "base_uri": "https://localhost:8080/"
        },
        "outputId": "430f335e-946f-48b1-9591-9b8973e8bdc8"
      },
      "execution_count": null,
      "outputs": [
        {
          "output_type": "execute_result",
          "data": {
            "text/plain": [
              "array([0, 0, 0, 0, 0, 0, 0, 0, 0, 0, 0, 0, 0, 0, 0, 0, 0, 0, 0, 0, 0, 0,\n",
              "       0, 0, 0, 0, 0, 0, 0, 0, 0, 0, 1, 0, 0, 0, 0, 0, 0, 0, 0, 0, 0, 0,\n",
              "       0, 0, 0, 1, 1, 0, 0, 0, 0, 0, 0, 0, 0, 0, 0, 0, 0, 0, 0, 0, 0, 0,\n",
              "       0, 0, 0, 0, 0, 0, 0, 0, 0, 0, 0, 0, 0, 0, 0, 0, 0, 0, 0, 0, 1, 0,\n",
              "       0, 0, 0, 0, 0, 0, 0, 0, 0, 0, 0, 0, 0, 0, 0, 0, 0, 0, 0, 0, 1, 0,\n",
              "       0, 0, 0, 1, 0, 0, 0, 0, 0, 1, 0, 0, 0, 0, 0, 0, 0, 0, 0, 0, 0, 0,\n",
              "       0, 0, 0, 1, 0, 0, 0, 0, 0, 0, 0, 0, 0, 0, 0, 0, 0, 0, 0, 0, 0, 0,\n",
              "       0, 0, 1, 0, 0, 0, 0, 0, 0, 0, 0, 0, 0, 0, 0, 0, 0, 0, 0, 0, 0, 0,\n",
              "       0, 0, 0, 0, 0, 1, 0, 0, 0, 0, 0, 0, 0, 0, 0, 0, 0, 0, 0, 0, 0, 0,\n",
              "       0, 0, 0, 0, 0, 0, 0, 0, 0, 0, 0, 0, 0, 1, 0, 0, 0, 0, 0, 0, 0, 0,\n",
              "       0, 0, 0, 0, 0, 0, 0, 0, 0, 0, 0, 0, 0, 0, 0, 0, 0, 1, 0, 0, 0, 0,\n",
              "       0, 0, 0, 0, 0, 0, 0, 0, 0, 0, 0, 0, 0, 0, 0, 0, 0, 0, 0, 0, 0, 0,\n",
              "       0, 0, 0, 0, 0, 0, 0, 0, 0, 1, 0, 0, 0, 0, 0, 0, 0, 0, 0, 0, 0, 0,\n",
              "       0, 0, 0, 0, 0, 0, 1, 0, 0, 0, 0, 0, 0, 1, 0, 0, 0, 0, 0, 0, 0, 0,\n",
              "       0, 0, 0, 0, 0, 0, 0, 0, 0, 0, 0, 0, 0, 0, 0, 0, 1, 0, 0, 0, 0, 0,\n",
              "       0, 0, 0, 0, 0, 0, 0, 0, 0, 0, 0, 0, 0, 0, 0, 0, 0, 0, 0, 0, 0, 0,\n",
              "       0, 0, 0, 0, 0, 0, 0, 0, 0, 0, 0, 0, 0, 0, 0, 0, 0, 0, 0, 0, 0, 0,\n",
              "       0, 0, 0, 0, 0, 0, 0, 0, 0, 0, 0, 0, 0, 0, 0, 0, 0, 0, 0, 0, 0, 0,\n",
              "       0, 0, 0, 0])"
            ]
          },
          "metadata": {},
          "execution_count": 135
        }
      ]
    },
    {
      "cell_type": "code",
      "source": [
        "print(accuracy_score(y_test_pca , new_pred)*100)"
      ],
      "metadata": {
        "id": "HzE2nxYMuEE9",
        "colab": {
          "base_uri": "https://localhost:8080/"
        },
        "outputId": "dea1fab2-2668-4c2c-eb5e-052f2294c274"
      },
      "execution_count": null,
      "outputs": [
        {
          "output_type": "stream",
          "name": "stdout",
          "text": [
            "72.0\n"
          ]
        }
      ]
    },
    {
      "cell_type": "code",
      "source": [
        "s1 = preprocess_image(all_images[567])\n",
        "s2 = feature_extraction((s1*255).astype('uint8'))"
      ],
      "metadata": {
        "id": "BEh24bkuNje0"
      },
      "execution_count": null,
      "outputs": []
    },
    {
      "cell_type": "code",
      "source": [
        "s2 = np.asarray(s2)\n",
        "s2.reshape(1,-1)\n",
        "s2.shape"
      ],
      "metadata": {
        "colab": {
          "base_uri": "https://localhost:8080/"
        },
        "id": "_Djl7c2-jB-8",
        "outputId": "2cdc08f7-29e8-4cf0-d381-bc6c8b174dea"
      },
      "execution_count": null,
      "outputs": [
        {
          "output_type": "execute_result",
          "data": {
            "text/plain": [
              "(26,)"
            ]
          },
          "metadata": {},
          "execution_count": 49
        }
      ]
    },
    {
      "cell_type": "code",
      "source": [
        "s2 = np.asarray(s2)\n",
        "s2 = s2.reshape(1,-1)\n",
        "s2 = scaler.transform(s2)"
      ],
      "metadata": {
        "colab": {
          "base_uri": "https://localhost:8080/"
        },
        "id": "y3hkeCDeOFSp",
        "outputId": "35241ab3-48b4-4d5c-c8b6-4f57afbff4d8"
      },
      "execution_count": null,
      "outputs": [
        {
          "output_type": "stream",
          "name": "stderr",
          "text": [
            "/usr/local/lib/python3.10/dist-packages/sklearn/base.py:439: UserWarning: X does not have valid feature names, but StandardScaler was fitted with feature names\n",
            "  warnings.warn(\n"
          ]
        }
      ]
    },
    {
      "cell_type": "code",
      "source": [
        "feature_names = ['contrast','dissimilarity','energy','correlation','entropy','homogeneity','angular_second_moment','mean_gabor','standard_gabor','mean',\n",
        "                                   'variance','skewness','kurtosis','energy_histogram','entropy_histogram','short_run_emphasis','long_run_emphasis','gray_level_nonuniformity',\n",
        "                                   'run_length_nonuniformity','low_gray_level_run_emphasis','high_gray_level_run_emphasis','area','perimeter','compactness','circularity',\n",
        "                                   'aspect_ratio']\n",
        "s2 = pd.DataFrame(s2 , columns = feature_names)"
      ],
      "metadata": {
        "id": "JJznK9KzOsGX"
      },
      "execution_count": null,
      "outputs": []
    },
    {
      "cell_type": "code",
      "source": [
        "s2 = pd.DataFrame(pca.transform(s2))"
      ],
      "metadata": {
        "colab": {
          "base_uri": "https://localhost:8080/"
        },
        "id": "j-ZeFzmAOq3z",
        "outputId": "981c84f3-ca0d-4704-eafb-e7238a8b3806"
      },
      "execution_count": null,
      "outputs": [
        {
          "output_type": "stream",
          "name": "stderr",
          "text": [
            "/usr/local/lib/python3.10/dist-packages/sklearn/base.py:432: UserWarning: X has feature names, but PCA was fitted without feature names\n",
            "  warnings.warn(\n"
          ]
        }
      ]
    },
    {
      "cell_type": "code",
      "source": [
        "predict1 = svm.predict(s2)\n",
        "if predict1==[0]:\n",
        "  result = \"negative\"\n",
        "else:\n",
        "  result = \"positive\""
      ],
      "metadata": {
        "id": "Sg2qaJZXO_vc"
      },
      "execution_count": null,
      "outputs": []
    },
    {
      "cell_type": "code",
      "source": [
        "print(\"This x-ray scan is :\",result)"
      ],
      "metadata": {
        "colab": {
          "base_uri": "https://localhost:8080/"
        },
        "id": "BEuU_SqOPEkj",
        "outputId": "3ab91edb-fa36-4cb0-9268-223cd1d79b81"
      },
      "execution_count": null,
      "outputs": [
        {
          "output_type": "stream",
          "name": "stdout",
          "text": [
            "This x-ray scan is : negative\n"
          ]
        }
      ]
    },
    {
      "cell_type": "code",
      "source": [
        "data = pd.read_csv(\"/content/drive/MyDrive/classifier_data/features_file\")"
      ],
      "metadata": {
        "id": "DagkLyTDC7GQ"
      },
      "execution_count": null,
      "outputs": []
    },
    {
      "cell_type": "code",
      "source": [
        "data['label'][567]"
      ],
      "metadata": {
        "colab": {
          "base_uri": "https://localhost:8080/"
        },
        "id": "wpLI-HmgDJe0",
        "outputId": "f2dbdf2a-247d-47e3-c3d0-6e4de69f544d"
      },
      "execution_count": null,
      "outputs": [
        {
          "output_type": "execute_result",
          "data": {
            "text/plain": [
              "0"
            ]
          },
          "metadata": {},
          "execution_count": 56
        }
      ]
    }
  ],
  "metadata": {
    "accelerator": "GPU",
    "colab": {
      "provenance": [],
      "gpuType": "T4"
    },
    "kernelspec": {
      "display_name": "Python 3",
      "name": "python3"
    },
    "language_info": {
      "name": "python"
    }
  },
  "nbformat": 4,
  "nbformat_minor": 0
}